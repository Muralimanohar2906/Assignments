{
 "cells": [
  {
   "cell_type": "code",
   "execution_count": 1,
   "id": "2ac1d2e9",
   "metadata": {},
   "outputs": [
    {
     "name": "stdout",
     "output_type": "stream",
     "text": [
      "Python version: 3.13.2 (tags/v3.13.2:4f8bb39, Feb  4 2025, 15:23:48) [MSC v.1942 64 bit (AMD64)]\n"
     ]
    }
   ],
   "source": [
    "# Check Python version\n",
    "import sys\n",
    "print(\"Python version:\", sys.version)"
   ]
  },
  {
   "cell_type": "code",
   "execution_count": 15,
   "id": "f8f6431f",
   "metadata": {},
   "outputs": [
    {
     "name": "stdout",
     "output_type": "stream",
     "text": [
      "Result Of A 19.0\n",
      "Result Of B 33.0\n",
      "Result Of C 0.01\n",
      "Result Of D 5.0\n",
      "Result Of E 125.0\n"
     ]
    }
   ],
   "source": [
    "a=10\n",
    "b=2\n",
    "#In one cell, write 5 different arithmetic expressions mixing + - * / // % ** and parentheses.\n",
    "A=(a+b)*(a-b)//(a/b)\n",
    "B=(a-b)+(a//b)*(a/b)\n",
    "C=(a*b)//(a+b)/(a**b)\n",
    "D=(a/b)-(a+b)//(a**b)\n",
    "E=(a//b)*(a/b)+(a**b)\n",
    "\n",
    "print(\"Result Of A\",A)\n",
    "print(\"Result Of B\",B)\n",
    "print(\"Result Of C\",C)\n",
    "print(\"Result Of D\",D)\n",
    "print(\"Result Of E\",E)"
   ]
  },
  {
   "cell_type": "code",
   "execution_count": null,
   "id": "2e15a180",
   "metadata": {},
   "outputs": [
    {
     "name": "stdout",
     "output_type": "stream",
     "text": [
      "Result is 2\n"
     ]
    }
   ],
   "source": [
    "#Debugging “Broken Math” Script\n",
    "a = 5\n",
    "b = 2\n",
    "result = a + b * b ** a // b % a - a\n",
    "print(\"Result is\",result)"
   ]
  },
  {
   "cell_type": "markdown",
   "id": "147f2f84",
   "metadata": {},
   "source": [
    "# Do a manual calculation of the result on paper/Markdown, then verify with Python’s output.\n",
    "5+2*2**5//2%5-5 --  # (2**5)\n",
    "5+2*32//2%5-5   --  # (2*32)\n",
    "5+64//2%5-5     --  # (64//2)\n",
    "5+32%5-5        --  # (32%5)\n",
    "5+2-5           --  # (5+2)\n",
    "7-5             --  # (7-5)\n",
    "2               -- # (Result)"
   ]
  },
  {
   "cell_type": "code",
   "execution_count": 20,
   "id": "a68599d9",
   "metadata": {},
   "outputs": [
    {
     "name": "stdout",
     "output_type": "stream",
     "text": [
      "10\n",
      "512\n",
      "True\n",
      "True\n",
      "9\n",
      "22.0\n",
      "12\n",
      "0\n",
      "-6\n",
      "4\n",
      "9\n"
     ]
    }
   ],
   "source": [
    "print(10 // 3 * 3 + 10 % 3)\n",
    "#excepted Result=10\n",
    "print(2 ** 3 ** 2)\n",
    "#excepted Result=64\n",
    "print(5 > 3 == 3)\n",
    "#excepted Result=true\n",
    "print((7 + 3) * 2 > 15 and not (4 % 2))\n",
    "#excepted Result=true\n",
    "print((True + True) * 5 - (False + True))\n",
    "#excepted true=1 & false -0 answer is (9)\n",
    "print(100 / 10 * 2 + 5 // 2)\n",
    "#excepted Result =22\n",
    "print(7 % 4 * 2 ** 2)\n",
    "#excepted Result = 12\n",
    "print((3 + 5) * (2 // 3))\n",
    "#excepted Result = 0\n",
    "print(10 - 2 ** 2 ** 2)\n",
    "#excepted Result = -6\n",
    "print((10 // 3) ** 2 % 5)\n",
    "#excepted Result = 4\n",
    "print((True + False) * 3 ** 2 - (True and False))\n",
    "#excepted Result = 8\n"
   ]
  },
  {
   "cell_type": "code",
   "execution_count": 26,
   "id": "900ac4ac",
   "metadata": {},
   "outputs": [
    {
     "name": "stdout",
     "output_type": "stream",
     "text": [
      "1034\n"
     ]
    }
   ],
   "source": [
    "price=10\n",
    "tax=2\n",
    "consult_calc=(price+tax**price)\n",
    "print(consult_calc)"
   ]
  },
  {
   "cell_type": "markdown",
   "id": "257caabf",
   "metadata": {},
   "source": [
    "financial forecasting\n",
    "In the banking sector it is very important to maintain everything in order, because if we do a little change in the formulas, it will affect the entire bank, so that's why we can't change anything in the formulas. Coming to formulas, we need to do the thing in mathematical operation, like we need to follow BODMAS rules for this state. B is for bracket, so if anything in the formula has brackets, we need to do that part first O:. Orderwill give you anything with power and square roots, D: division, M: multiplication, A: addition, and S: subtraction. This will be followed by calculating any mathematical operations."
   ]
  },
  {
   "cell_type": "code",
   "execution_count": null,
   "id": "ac1765c2",
   "metadata": {},
   "outputs": [],
   "source": []
  }
 ],
 "metadata": {
  "kernelspec": {
   "display_name": "Python 3",
   "language": "python",
   "name": "python3"
  },
  "language_info": {
   "codemirror_mode": {
    "name": "ipython",
    "version": 3
   },
   "file_extension": ".py",
   "mimetype": "text/x-python",
   "name": "python",
   "nbconvert_exporter": "python",
   "pygments_lexer": "ipython3",
   "version": "3.13.2"
  }
 },
 "nbformat": 4,
 "nbformat_minor": 5
}

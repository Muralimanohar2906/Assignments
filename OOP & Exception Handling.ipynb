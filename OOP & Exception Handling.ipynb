{
 "cells": [
  {
   "cell_type": "markdown",
   "id": "9a78bdc0",
   "metadata": {},
   "source": [
    "1. Explain with examples:\n",
    "○ How method overriding is different from method overloading (Python’s version using default arguments or *args).\n",
    "○ Which one Python actually supports directly?"
   ]
  },
  {
   "cell_type": "markdown",
   "id": "d1535752",
   "metadata": {},
   "source": [
    "## How method overriding is different from method overloading (Python’s version using default arguments or *args).\n",
    "Method overloading involves defining multiple methods with the same name but different parameter lists (number, type, or order) within the same class for different behaviors, resolved at compile-time. Method overriding involves a subclass providing a specific implementation for a method that is already defined in its superclass with the exact same name, return type, and parameter list, resolved at run-time.\n",
    " \n",
    "\n",
    "class Animal:\n",
    "    def sound(self):\n",
    "        return \"Some generic animal sound\"\n",
    "\n",
    "class Dog(Animal):\n",
    "    # Overriding the parent method\n",
    "    def sound(self):\n",
    "        return \"Bark\"\n",
    "\n",
    "class Cat(Animal):\n",
    "    def sound(self):\n",
    "        return \"Meow\"\n",
    "\n",
    "\n",
    "a = Animal()\n",
    "d = Dog()\n",
    "c = Cat()\n",
    "\n",
    "print(a.sound())  # Some generic animal sound\n",
    "print(d.sound())  # Bark\n",
    "print(c.sound())  # Meow\n",
    "\n",
    "Example overloading\n",
    "\n",
    "class Calculator:\n",
    "    # Overloading simulated with default args\n",
    "    def add(self, a=0, b=0, c=0):\n",
    "        return a + b + c\n",
    "\n",
    "\n",
    "calc = Calculator()\n",
    "print(calc.add(2, 3))       # 5\n",
    "print(calc.add(2, 3, 4))    # 9\n",
    "print(calc.add(10))         # 10\n",
    "\n",
    "## Which one Python actually supports directly?\n",
    "Python directly supports Method Overriding.\n",
    "If a child class defines a method with the same name as in the parent, the child’s version automatically overrides the parent’s.\n",
    "\n",
    "Examples Overriding\n",
    "class Animal:\n",
    "    def sound(self):\n",
    "        return \"Some generic animal sound\"\n",
    "\n",
    "class Dog(Animal):\n",
    "    # Overriding the parent method\n",
    "    def sound(self):\n",
    "        return \"Bark\"\n",
    "d = Dog()\n",
    "print(d.sound())"
   ]
  },
  {
   "cell_type": "markdown",
   "id": "b6baf769",
   "metadata": {},
   "source": [
    "## 2. Suppose you’re designing an E-commerce app. Describe how you would use:Encapsulation,Inheritance,Polymorphism,Abstraction Give class examples for each.\n",
    "\n",
    "from abc import ABC, abstractmethod\n",
    "# 1. Encapsulation (Product data hidden)\n",
    "class Product:\n",
    "    def __init__(self, name, price):\n",
    "        self.__name = name      # private\n",
    "        self.__price = price    # private\n",
    "\n",
    "    def get_name(self):\n",
    "        return self.__name\n",
    "\n",
    "    def get_price(self):\n",
    "        return self.__price\n",
    "\n",
    "# 2. Inheritance (Users → Customer & Seller)\n",
    "class User:\n",
    "    def __init__(self, name, email):\n",
    "        self.name = name\n",
    "        self.email = email\n",
    "\n",
    "class Customer(User):   # inherits User\n",
    "    def place_order(self, product, payment, shipping):\n",
    "        amount = product.get_price()\n",
    "        print(f\"{self.name} ordered {product.get_name()} worth {amount}\")\n",
    "        print(payment.pay(amount))               # polymorphism\n",
    "        print(f\"Shipping cost: {shipping.calculate_cost(2)}\")  # abstraction\n",
    "\n",
    "class Seller(User):     # inherits User\n",
    "    def add_product(self, product):\n",
    "        return f\"{self.name} listed {product.get_name()} for sale.\"\n",
    "\n",
    "# 3. Polymorphism (Different payment methods)\n",
    "class Payment(ABC):\n",
    "    @abstractmethod\n",
    "    def pay(self, amount):\n",
    "        pass\n",
    "\n",
    "class CreditCard(Payment):\n",
    "    def pay(self, amount):\n",
    "        return f\"Paid {amount} with Credit Card.\"\n",
    "\n",
    "class PayPal(Payment):\n",
    "    def pay(self, amount):\n",
    "        return f\"Paid {amount} with PayPal.\"\n",
    "\n",
    "# 4. Abstraction (Different shipping logic)\n",
    "class Shipping(ABC):\n",
    "    @abstractmethod\n",
    "    def calculate_cost(self, weight):\n",
    "        pass\n",
    "\n",
    "class StandardShipping(Shipping):\n",
    "    def calculate_cost(self, weight):\n",
    "        return weight * 5\n",
    "\n",
    "class ExpressShipping(Shipping):\n",
    "    def calculate_cost(self, weight):\n",
    "        return weight * 10\n",
    "\n",
    "# 🔹 Flow Example\n",
    "product = Product(\"Laptop\", 50000)\n",
    "customer = Customer(\"Murali\", \"murali@example.com\")\n",
    "seller = Seller(\"Arjun\", \"arjun@example.com\")\n",
    "\n",
    "print(seller.add_product(product))\n",
    "print(\"--- Order Flow ---\")\n",
    "customer.place_order(product, PayPal(), ExpressShipping())\n"
   ]
  },
  {
   "cell_type": "markdown",
   "id": "b52c0026",
   "metadata": {},
   "source": [
    "## 3. What is duck typing in Python? Show with an example how polymorphism in Python supports duck typing.\n",
    "In Python, type doesn’t matter, only the behavior (methods/attributes) matters.\n",
    "You don’t care about the object’s class, you just call the method, and if it exists, it works.\n",
    "\n",
    "# Example\n",
    "class Dog:\n",
    "    def sound(self):\n",
    "        return \"Bark\"\n",
    "\n",
    "class Cat:\n",
    "    def sound(self):\n",
    "        return \"Meow\"\n",
    "\n",
    "class Duck:\n",
    "    def sound(self):\n",
    "        return \"Quack\"\n",
    "\n",
    "# Function doesn’t care about object type\n",
    "def make_sound(animal):\n",
    "    print(animal.sound())\n",
    "\n",
    "# Polymorphism + Duck Typing\n",
    "for pet in [Dog(), Cat(), Duck()]:\n",
    "    make_sound(pet)\n"
   ]
  },
  {
   "cell_type": "markdown",
   "id": "566d44e7",
   "metadata": {},
   "source": [
    "## 4. How do custom exceptions improve code readability and maintainability? Give one case where defining your own exception class is better than using built-in exceptions.\n",
    "Makes error meaning clear,Easier to handle specific problems in big projects, instead of mixing all with generic exceptions & Exceptions match business logic (banking, e-commerce, etc.).\n",
    "\n",
    "# Example\n",
    "\n",
    "Suppose a customer tries to withdraw more money than available.\n",
    "Using built-in exception (ValueError) → not very clear.\n",
    "Using custom InsufficientFundsError → very clear and specific."
   ]
  },
  {
   "cell_type": "markdown",
   "id": "e36906af",
   "metadata": {},
   "source": [
    "# 5. Compare composition vs inheritance. Give one scenario where you would prefer composition over inheritance.\n",
    "\n",
    "\n",
    "# Composition (HAS-A): A Car has an Engine.it allows  one class inside another instead of extending.\n",
    "\n",
    "# Example\n",
    "class Engine:\n",
    "    def start(self):\n",
    "        print(\"Engine starts\")\n",
    "\n",
    "class Car:\n",
    "    def __init__(self):\n",
    "        self.engine = Engine()   # Car HAS-A Engine\n",
    "\n",
    "    def drive(self):\n",
    "        self.engine.start()\n",
    "        print(\"Car drives\")\n",
    "# Inheritance (IS-A): A Car is a Vehicle. You inherit properties/behaviors.\n",
    "\n",
    "# Example\n",
    "\n",
    "class Vehicle:\n",
    "    def move(self):\n",
    "        print(\"Vehicle is moving\")\n",
    "\n",
    "class Car(Vehicle):   # Car IS-A Vehicle\n",
    "    def honk(self):\n",
    "        print(\"Car honks\")\n"
   ]
  },
  {
   "cell_type": "code",
   "execution_count": 14,
   "id": "3b741ee4",
   "metadata": {},
   "outputs": [
    {
     "name": "stdout",
     "output_type": "stream",
     "text": [
      "murali is working.\n",
      "shyam is managing 2 employees.\n",
      "johny is coding in Python.\n"
     ]
    }
   ],
   "source": [
    "#6.Create a class hierarchy for Employees:\n",
    "# Base class Employee (name, salary).\n",
    "# Subclass Manager (manages list of employees).\n",
    "# Subclass Developer (programming_language). Demonstrate polymorphism by calling a work() method for different employees.\n",
    "class Employee:\n",
    "    def __init__(self, name, salary):\n",
    "        self.name = name\n",
    "        self.salary = salary\n",
    "    def work(self):\n",
    "        return f\"{self.name} is working.\"\n",
    "\n",
    "class Manager(Employee):\n",
    "    def __init__(self, name, salary, employees):\n",
    "       Employee.__init__(self,name, salary)\n",
    "       self.employees = employees    \n",
    "    def work(self):\n",
    "        return f\"{self.name} is managing {len(self.employees)} employees.\"\n",
    "\n",
    "class Developer(Employee):\n",
    "    def __init__(self, name, salary, programming_language):\n",
    "        Employee.__init__(self,name, salary)\n",
    "        self.programming_language = programming_language\n",
    "    def work(self):\n",
    "        return f\"{self.name} is coding in {self.programming_language}.\"\n",
    "\n",
    "emp1 = Employee(\"murali\", 50000)\n",
    "emp2 = Manager(\"shyam\", 80000, [\"murali\", \"Charlie\"])\n",
    "emp3 = Developer(\"johny\", 60000, \"Python\")\n",
    "print(emp1.work())\n",
    "print(emp2.work())\n",
    "print(emp3.work())      \n"
   ]
  },
  {
   "cell_type": "code",
   "execution_count": null,
   "id": "3e105fc9",
   "metadata": {},
   "outputs": [
    {
     "name": "stdout",
     "output_type": "stream",
     "text": [
      "Teaching students.\n",
      "Conducting research.\n",
      "Guiding students and conducting research.\n",
      "[<class '__main__.Professor'>, <class '__main__.Teacher'>, <class '__main__.Researcher'>, <class 'object'>]\n"
     ]
    }
   ],
   "source": [
    "#Implement multiple inheritance in Python with a Teacher and Researcher class. Derive a Professor class that inherits from both. Show how MRO (Method Resolution Order) works in Python.\n",
    "class Teacher:\n",
    "    def teach(self):\n",
    "        return \"Teaching students.\"\n",
    "\n",
    "class Researcher:\n",
    "    def research(self):\n",
    "        return \"Conducting research.\"\n",
    "\n",
    "class Professor(Teacher, Researcher):\n",
    "    def guide(self):\n",
    "        return \"Guiding students and conducting research.\"\n",
    "\n",
    "prof = Professor()\n",
    "print(prof.teach())\n",
    "print(prof.research())\n",
    "print(prof.guide())\n"
   ]
  },
  {
   "cell_type": "code",
   "execution_count": 26,
   "id": "04431a63",
   "metadata": {},
   "outputs": [
    {
     "name": "stdout",
     "output_type": "stream",
     "text": [
      "Average Marks: 275\n",
      "Grade: A\n"
     ]
    }
   ],
   "source": [
    "#8. Design a Student Grading System using OOP:\n",
    "# Class Student with attributes name, roll, marks (dict).\n",
    "#Methods: calculate_average(), get_grade().\n",
    "# Use encapsulation to keep marks private.\n",
    "class Student:\n",
    "    def __init__(self,name,roll,marks):\n",
    "        self.name = name\n",
    "        self.roll = roll\n",
    "        self.__marks = marks\n",
    "    def calc_avg(self):\n",
    "            return sum(self.__marks.values())\n",
    "    def get_grade(self):\n",
    "            avg=self.calc_avg()\n",
    "            if avg>=90:\n",
    "                return 'A'\n",
    "            elif avg>=80:\n",
    "                return 'B'\n",
    "            elif avg>=70:\n",
    "                return \"C\"\n",
    "            elif avg>=60:\n",
    "                return \"D\"\n",
    "            else:\n",
    "                return \"Fail\"\n",
    "student1 = Student(\"Murali\", 1, {\"Math\": 95, \"Science\": 88, \"English\": 92})\n",
    "print(\"Average Marks:\",student1.calc_avg())\n",
    "print(\"Grade:\",student1.get_grade())"
   ]
  },
  {
   "cell_type": "code",
   "execution_count": 30,
   "id": "ef24480c",
   "metadata": {},
   "outputs": [
    {
     "name": "stdout",
     "output_type": "stream",
     "text": [
      "Paid 1000 using Credit Card.\n",
      "Paid 500 using UPI.\n",
      "paid 300 using wallet\n"
     ]
    }
   ],
   "source": [
    "#9. Create an abstract class Payment with abstract method pay(amount). Implement subclasses CreditCardPayment, UPIPayment, and WalletPayment. Simulate different payments.\n",
    "from abc import ABC, abstractmethod\n",
    "class payments(ABC):\n",
    "    @abstractmethod\n",
    "    def pay(self,amount):\n",
    "        pass\n",
    "class CreditCard(payments):\n",
    "    def pay(self,amount):\n",
    "        return f\"Paid {amount} using Credit Card.\"\n",
    "class upi(payments):\n",
    "    def pay(self,amount):\n",
    "        return f\"Paid {amount} using UPI.\"\n",
    "class  wallet(payments):\n",
    "    def pay(self,amount):\n",
    "        return f\"paid {amount} using wallet\"\n",
    "credit_card_payment = CreditCard()\n",
    "print(credit_card_payment.pay(1000))\n",
    "upi_payment = upi()\n",
    "print(upi_payment.pay(500))\n",
    "wallet_payment = wallet()\n",
    "print(wallet_payment.pay(300))    "
   ]
  },
  {
   "cell_type": "code",
   "execution_count": 36,
   "id": "e489edf9",
   "metadata": {},
   "outputs": [
    {
     "name": "stdout",
     "output_type": "stream",
     "text": [
      "Insufficient funds for this withdrawal.\n"
     ]
    }
   ],
   "source": [
    "#10. Define a custom exception InsufficientFundsError. Modify your BankAccount class so that withdrawing more than balance raises this exception. Handle it gracefully.\n",
    "class insufficientfundserror(Exception):\n",
    "    pass\n",
    "class bankaccount:\n",
    "    def __init__(self,balance):\n",
    "        self.balance=balance\n",
    "    def withdraw(self,amount):\n",
    "            if amount>self.balance:\n",
    "                raise insufficientfundserror(\"Insufficient funds for this withdrawal.\")\n",
    "            self.balance-=amount\n",
    "            return f\"Withdrew {amount}. New balance is {self.balance}.\"\n",
    "    def deposit(self,amount):\n",
    "            self.balance+=amount\n",
    "            return f\"Deposited {amount}. New balance is {self.balance}.\"\n",
    "account=bankaccount(1000)\n",
    "try:\n",
    "    print(account.withdraw(1500))\n",
    "except insufficientfundserror as e:\n",
    "    print(e)"
   ]
  },
  {
   "cell_type": "code",
   "execution_count": 2,
   "id": "aff28ad0",
   "metadata": {},
   "outputs": [
    {
     "name": "stdout",
     "output_type": "stream",
     "text": [
      "invalid input\n",
      "Program Ended\n"
     ]
    }
   ],
   "source": [
    "#11. a) Demonstrate try-except-else-finally:Take a number from the user,If the number is even, print “Even number,Else, print “Odd number.”,Use except for invalid input and finally to print “Program ended.”\n",
    "user=input(\"Enter Number:\")\n",
    "try:\n",
    "    num=int(user)\n",
    "    if num%2==0:\n",
    "        print(\"The Number Is Even\")\n",
    "    else:\n",
    "        print(\"The Number Is Odd\")\n",
    "except:\n",
    "    print(\"invalid input\")\n",
    "finally:\n",
    "    print(\"Program Ended\")\n",
    "    "
   ]
  },
  {
   "cell_type": "code",
   "execution_count": 9,
   "id": "9aa7ffd2",
   "metadata": {},
   "outputs": [
    {
     "name": "stdout",
     "output_type": "stream",
     "text": [
      "age is unrealistic\n"
     ]
    }
   ],
   "source": [
    "#11. b) Create a program that asks the user for an age,If input is non-numeric → handle with ValueError,If age < 0 → raise NegativeAgeError,If age > 150 → raise UnrealisticAgeError,Else print valid age.\n",
    "class negativeageerror(Exception):\n",
    "    pass\n",
    "class unrealistic(Exception):\n",
    "    pass\n",
    "age=int(input(\"Enter age:\"))\n",
    "try:\n",
    "    if age<0:\n",
    "        raise negativeageerror(\"age cannot be negative\")\n",
    "    elif age>120:\n",
    "        raise unrealistic(\"age is unrealistic\")\n",
    "    else:\n",
    "        print(\"Entered Age Is valid\")\n",
    "except negativeageerror as e:\n",
    "    print(e)\n",
    "except unrealistic as e:\n",
    "    print(e)"
   ]
  },
  {
   "cell_type": "code",
   "execution_count": 19,
   "id": "0b0e60aa",
   "metadata": {},
   "outputs": [
    {
     "name": "stdout",
     "output_type": "stream",
     "text": [
      "Added 3 more copies of Python Programming.\n",
      "You have Borrowed Python Programming.\n",
      "you have return the bookPython Programming.\n"
     ]
    }
   ],
   "source": [
    "#Implement a library management system:Class Book with attributes: title, author, copies,Class Library that manages a collection of books with methods: add_book, borrow_book, return_book,Use encapsulation to prevent direct modification of copies.\n",
    "class Book:\n",
    "    def __init__(self,title,author,copies):\n",
    "        self.title=title\n",
    "        self.author=author\n",
    "        self.__copies=copies\n",
    "    def get_copies(self):\n",
    "        return self.__copies\n",
    "    def add_copies(self, n):\n",
    "        self.__copies += n\n",
    "    def borrow(self):\n",
    "        if self.__copies>0:\n",
    "            self.__copies-=1\n",
    "            return True\n",
    "        return False\n",
    "    def return_book(self):\n",
    "        self.__copies+=1\n",
    "class Library:\n",
    "    def __init__(self):\n",
    "        self.books={}\n",
    "    def add_book(self,book):\n",
    "        if book.title in self.books:\n",
    "            self.books[book.title].add_copies(book.get_copies())\n",
    "            return f\"Added {book.get_copies()} more copies of {book.title}.\"\n",
    "        else:\n",
    "            self.books[book.title]=book\n",
    "            return f\"Added new book {book.title} with {book.get_copies()} copies.\"  \n",
    "    def borrow_book(self,title):\n",
    "        if title in self.books:\n",
    "            if self.books[title].borrow():\n",
    "                return f\"You have Borrowed {title}.\"\n",
    "            else:\n",
    "                return f\"sorry {title} is unavailable\"\n",
    "    def return_book(self,title):\n",
    "        if title in self.books:\n",
    "            self.books[title].return_book()\n",
    "            return f\"you have return the book{title}.\"\n",
    "        else:\n",
    "            return f\"{title} does not belong to this library.\"\n",
    "lib=Library()\n",
    "book1=Book(\"Python Programming\",\"John Doe\",3)\n",
    "lib.add_book(book1)\n",
    "print(lib.add_book(Book(\"Python Programming\",\"John Doe\",3)))\n",
    "print(lib.borrow_book(\"Python Programming\"))\n",
    "print(lib.return_book(\"Python Programming\"))\n",
    "            "
   ]
  },
  {
   "cell_type": "code",
   "execution_count": 21,
   "id": "94fab282",
   "metadata": {},
   "outputs": [
    {
     "name": "stdout",
     "output_type": "stream",
     "text": [
      "paid 1000 using credit card\n",
      "paid 500 using cash\n",
      "paid 700 using bitcoin\n"
     ]
    }
   ],
   "source": [
    "#13. Write a program that uses polymorphism:Define a function process_payment(payment_method) which accepts any object with a pay() method,Pass in different classes (CreditCard, Cash, Bitcoin) without them sharing a common parent class. Demonstrate duck typing.\n",
    "def process_payment(payment_method, amount):\n",
    "    return payment_methods.pay(amount)\n",
    "# --- IGNORE ---\n",
    "class cerditcard:\n",
    "    def pay(self,amount):\n",
    "        return f\"paid {amount} using credit card\"\n",
    "class cash:\n",
    "    def pay(self,amount):\n",
    "        return f'paid {amount} using cash'\n",
    "class bitcoin:\n",
    "    def pay(self,amount):\n",
    "        return f\"paid {amount} using bitcoin\"\n",
    "# --- IGNORE ---    \n",
    "payment_methods=cerditcard()\n",
    "print(process_payment(payment_methods,1000))\n",
    "payment_methods=cash()\n",
    "print(process_payment(payment_methods,500))\n",
    "payment_methods=bitcoin()\n",
    "print(process_payment(payment_methods,700))"
   ]
  },
  {
   "cell_type": "code",
   "execution_count": 22,
   "id": "2b1b5429",
   "metadata": {},
   "outputs": [
    {
     "name": "stdout",
     "output_type": "stream",
     "text": [
      "Result is 1.75\n",
      "cleanup:program ended\n"
     ]
    }
   ],
   "source": [
    "#14. Create a program that demonstrates nested exception handling:Take two numbers as input,Handle ValueError if input is invalid,Handle ZeroDivisionError if divisor is zero,Always print a cleanup message.\n",
    "numb1=input(\"enter first number:\")\n",
    "numb2=input(\"enter second number:\")\n",
    "try:\n",
    "    num=int(numb1)\n",
    "    numb2=int(numb2)\n",
    "    result=num/numb2\n",
    "    print(f\"Result is {result}\")\n",
    "except ZeroDivisionError as e:\n",
    "    print(\"Error: Division by zero is not allowed.\")    \n",
    "except ValueError as e: \n",
    "    print(\"Error: Invalid input. Please enter numeric values.\") \n",
    "finally:\n",
    "    print(\"cleanup:program ended\")"
   ]
  },
  {
   "cell_type": "code",
   "execution_count": 23,
   "id": "5ddef35c",
   "metadata": {},
   "outputs": [
    {
     "name": "stdout",
     "output_type": "stream",
     "text": [
      "Rectangle Area: 50\n",
      "Rectangle Perimeter: None\n",
      "Circle Area: 153.86\n",
      "Circle Perimeter: 43.96\n",
      "Triangle Area: 6.0\n",
      "Triangle Perimeter: 12\n"
     ]
    }
   ],
   "source": [
    "#15. Build a Shape hierarchy where:Shape is an abstract class with abstract methods area() and perimeter(),Implement Rectangle, Circle, and Triangle,Raise a custom exception InvalidShapeError if negative dimensions are given.\n",
    "from abc import ABC, abstractmethod\n",
    "class shape(ABC):\n",
    "    @abstractmethod\n",
    "    def area(self):\n",
    "        pass\n",
    "    @abstractmethod\n",
    "    def perimeter(self):\n",
    "        pass\n",
    "class InvalidShapeError(Exception):\n",
    "    pass\n",
    "class rectangle(shape):\n",
    "    def __init__(self,length,breadth):\n",
    "        if length<0 or breadth<0:\n",
    "            raise InvalidShapeError(\"Enter a Valid dimensions\")\n",
    "        self.length=length\n",
    "        self.breadth=breadth\n",
    "    def area(self):\n",
    "        return self.length*self.breadth\n",
    "    def perimeter(self):\n",
    "        return super().perimeter()\n",
    "class circle(shape):\n",
    "    def __init__(self,radius):\n",
    "        if radius<0:\n",
    "            raise InvalidShapeError(\"Enter a Valid dimensions\")\n",
    "        self.radius=radius\n",
    "    def area(self):\n",
    "        return 3.14*self.radius*self.radius\n",
    "    def perimeter(self):\n",
    "        return 2*3.14*self.radius\n",
    "class traingle(shape):\n",
    "    def __init__(self,a,b,c):\n",
    "        if a<0 or b<0 or c<0:\n",
    "            raise InvalidShapeError(\"Enter a Valid dimensions\")\n",
    "        self.a=a\n",
    "        self.b=b\n",
    "        self.c=c\n",
    "    def area(self):\n",
    "        s=(self.a+self.b+self.c)/2\n",
    "        return (s*(s-self.a)*(s-self.b)*(s-self.c))**0.5    \n",
    "    def perimeter(self):\n",
    "        return self.a+self.b+self.c \n",
    "try:\n",
    "    rect=rectangle(10,5)\n",
    "    print(\"Rectangle Area:\",rect.area())\n",
    "    print(\"Rectangle Perimeter:\",rect.perimeter())\n",
    "    circ=circle(7)\n",
    "    print(\"Circle Area:\",circ.area())\n",
    "    print(\"Circle Perimeter:\",circ.perimeter())\n",
    "    tri=traingle(3,4,5)\n",
    "    print(\"Triangle Area:\",tri.area())\n",
    "    print(\"Triangle Perimeter:\",tri.perimeter())\n",
    "except InvalidShapeError as e:\n",
    "    print(e)\n"
   ]
  },
  {
   "cell_type": "code",
   "execution_count": null,
   "id": "50d5c458",
   "metadata": {},
   "outputs": [],
   "source": []
  }
 ],
 "metadata": {
  "kernelspec": {
   "display_name": "Python 3",
   "language": "python",
   "name": "python3"
  },
  "language_info": {
   "codemirror_mode": {
    "name": "ipython",
    "version": 3
   },
   "file_extension": ".py",
   "mimetype": "text/x-python",
   "name": "python",
   "nbconvert_exporter": "python",
   "pygments_lexer": "ipython3",
   "version": "3.13.2"
  }
 },
 "nbformat": 4,
 "nbformat_minor": 5
}

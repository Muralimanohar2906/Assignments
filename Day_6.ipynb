{
 "cells": [
  {
   "cell_type": "markdown",
   "id": "867fdc49",
   "metadata": {},
   "source": [
    "## 1 https://codeforces.com/problemset/problem/546/A"
   ]
  },
  {
   "cell_type": "code",
   "execution_count": null,
   "id": "9aebbdd1",
   "metadata": {},
   "outputs": [
    {
     "name": "stdout",
     "output_type": "stream",
     "text": [
      "Dollars to borrow: 13\n"
     ]
    }
   ],
   "source": [
    "\n",
    "k = int(input(\"Enter the cost of the first banana (k): \"))\n",
    "n = int(input(\"Enter the amount of money the soldier has (n): \"))\n",
    "w = int(input(\"Enter the number of bananas the soldier wants to buy (w): \"))\n",
    "total_cost = k * w * (w + 1) // 2\n",
    "borrowed = max(0, total_cost - n)\n",
    "print(\"Dollars to borrow:\", borrowed)"
   ]
  },
  {
   "cell_type": "markdown",
   "id": "3ef1009d",
   "metadata": {},
   "source": [
    "## 2 https://www.hackerrank.com/challenges/py-if-else/problem"
   ]
  },
  {
   "cell_type": "code",
   "execution_count": null,
   "id": "b50cc3ab",
   "metadata": {},
   "outputs": [
    {
     "name": "stdout",
     "output_type": "stream",
     "text": [
      "Not Weird\n"
     ]
    }
   ],
   "source": [
    "n = int(input())\n",
    "if n % 2 == 1:\n",
    "    print(\"Weird\")\n",
    "elif 2 <= n <= 5:\n",
    "    print(\"Not Weird\")\n",
    "elif 6 <= n <= 20:\n",
    "    print(\"Weird\")\n",
    "else:\n",
    "    print(\"Not Weird\")\n"
   ]
  },
  {
   "cell_type": "markdown",
   "id": "11b50af9",
   "metadata": {},
   "source": [
    "## 3 https://www.hackerrank.com/challenges/py-hello-world/problem"
   ]
  },
  {
   "cell_type": "code",
   "execution_count": 10,
   "id": "745e5224",
   "metadata": {},
   "outputs": [
    {
     "name": "stdout",
     "output_type": "stream",
     "text": [
      "Hello, World!\n"
     ]
    }
   ],
   "source": [
    "print(\"Hello, World!\")"
   ]
  },
  {
   "cell_type": "markdown",
   "id": "a6e3d455",
   "metadata": {},
   "source": [
    "## 4 https://www.hackerrank.com/challenges/python-arithmetic-operators/problem"
   ]
  },
  {
   "cell_type": "code",
   "execution_count": null,
   "id": "5dc8e01b",
   "metadata": {},
   "outputs": [
    {
     "name": "stdout",
     "output_type": "stream",
     "text": [
      "5\n",
      "1\n",
      "6\n"
     ]
    }
   ],
   "source": [
    "a = int(input())\n",
    "b = int(input())\n",
    "print(a + b)\n",
    "print(a - b)\n",
    "print(a * b)\n"
   ]
  },
  {
   "cell_type": "markdown",
   "id": "d03de2b8",
   "metadata": {},
   "source": [
    "## 5 https://www.hackerrank.com/challenges/python-division/problem"
   ]
  },
  {
   "cell_type": "code",
   "execution_count": null,
   "id": "14773a30",
   "metadata": {},
   "outputs": [
    {
     "name": "stdout",
     "output_type": "stream",
     "text": [
      "1\n",
      "1.3333333333333333\n"
     ]
    }
   ],
   "source": [
    "a=4\n",
    "b=3\n",
    "print(a//b)\n",
    "print(a/b)"
   ]
  },
  {
   "cell_type": "markdown",
   "id": "6ec314a4",
   "metadata": {},
   "source": [
    "## 6 https://www.hackerrank.com/challenges/python-loops/problem"
   ]
  },
  {
   "cell_type": "code",
   "execution_count": 13,
   "id": "fd1ec408",
   "metadata": {},
   "outputs": [
    {
     "name": "stdout",
     "output_type": "stream",
     "text": [
      "0\n",
      "1\n",
      "4\n",
      "9\n",
      "16\n"
     ]
    }
   ],
   "source": [
    "n=5\n",
    "for i in range(n):\n",
    "    print(i*i)"
   ]
  },
  {
   "cell_type": "markdown",
   "id": "38b41669",
   "metadata": {},
   "source": [
    "## 7 https://www.hackerrank.com/challenges/python-print/problem"
   ]
  },
  {
   "cell_type": "code",
   "execution_count": 14,
   "id": "8319c8d9",
   "metadata": {},
   "outputs": [
    {
     "name": "stdout",
     "output_type": "stream",
     "text": [
      "123"
     ]
    }
   ],
   "source": [
    "n=3\n",
    "for i in range(n):\n",
    "    print(i+1, end=\"\")"
   ]
  },
  {
   "cell_type": "markdown",
   "id": "81e0961c",
   "metadata": {},
   "source": [
    "## 8 https://codeforces.com/contest/791/problem/A"
   ]
  },
  {
   "cell_type": "code",
   "execution_count": 16,
   "id": "5bd3112f",
   "metadata": {},
   "outputs": [
    {
     "name": "stdout",
     "output_type": "stream",
     "text": [
      "3\n"
     ]
    }
   ],
   "source": [
    "limak = int(input(\"Enter Limak Age:\"))\n",
    "bob = int(input(\"Enter Bob Age:\"))\n",
    "years = 0\n",
    "while limak <= bob:\n",
    "    limak *= 3\n",
    "    bob *= 2\n",
    "    years += 1\n",
    "print(years)"
   ]
  },
  {
   "cell_type": "markdown",
   "id": "6054de24",
   "metadata": {},
   "source": [
    "## 9 https://codeforces.com/contest/231/problem/A"
   ]
  },
  {
   "cell_type": "code",
   "execution_count": 23,
   "id": "59af9f25",
   "metadata": {},
   "outputs": [
    {
     "name": "stdout",
     "output_type": "stream",
     "text": [
      "2\n"
     ]
    }
   ],
   "source": [
    "n = int(input())\n",
    "count = 0\n",
    "\n",
    "for _ in range(n):\n",
    "    p, v, t = map(int, input().split())\n",
    "    if p + v + t >= 2:\n",
    "        count += 1\n",
    "print(count)\n"
   ]
  },
  {
   "cell_type": "markdown",
   "id": "ae208552",
   "metadata": {},
   "source": [
    "## 10 https://codeforces.com/contest/112/problem/A"
   ]
  },
  {
   "cell_type": "code",
   "execution_count": 24,
   "id": "871c44f6",
   "metadata": {},
   "outputs": [
    {
     "name": "stdout",
     "output_type": "stream",
     "text": [
      "0\n"
     ]
    }
   ],
   "source": [
    "s1 = input()\n",
    "s2 = input()\n",
    "s1_lower = s1.lower()\n",
    "s2_lower = s2.lower()\n",
    "if s1_lower < s2_lower:\n",
    "    print(-1)\n",
    "elif s1_lower > s2_lower:\n",
    "    print(1)\n",
    "else:\n",
    "    print(0)\n"
   ]
  },
  {
   "cell_type": "code",
   "execution_count": null,
   "id": "5f948dee",
   "metadata": {},
   "outputs": [],
   "source": []
  }
 ],
 "metadata": {
  "kernelspec": {
   "display_name": "Python 3",
   "language": "python",
   "name": "python3"
  },
  "language_info": {
   "codemirror_mode": {
    "name": "ipython",
    "version": 3
   },
   "file_extension": ".py",
   "mimetype": "text/x-python",
   "name": "python",
   "nbconvert_exporter": "python",
   "pygments_lexer": "ipython3",
   "version": "3.13.2"
  }
 },
 "nbformat": 4,
 "nbformat_minor": 5
}

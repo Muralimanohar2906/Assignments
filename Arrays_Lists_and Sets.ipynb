{
 "cells": [
  {
   "cell_type": "markdown",
   "id": "996280e8",
   "metadata": {},
   "source": [
    "#1.In Quiz 1 of a course the marks obtained by ten students are 12, 4, 5, 3, 8, 7, 10, 15, 9, 11. Write apython program to calculate the mean and medianof the marks obtained by the students. Cross checkthe results by importing statistics module in python.\n"
   ]
  },
  {
   "cell_type": "code",
   "execution_count": 5,
   "id": "c6d87202",
   "metadata": {},
   "outputs": [
    {
     "name": "stdout",
     "output_type": "stream",
     "text": [
      "Mean is: 8.4\n",
      "Median is: 8.5\n",
      "Mean by pandas: 8.4\n",
      "Median by pandas: 8.5\n"
     ]
    }
   ],
   "source": [
    "marks=[12,4,5,3,8,7,10,15,9,11]\n",
    "def mean(marks):\n",
    "    return sum(marks)/len(marks)\n",
    "def median(marks):\n",
    "   marks.sort()\n",
    "   m=len(marks)\n",
    "   if m%2==0:\n",
    "         median=(marks[m//2]+marks[m//2-1])/2\n",
    "   else:\n",
    "            median=marks[m//2]\n",
    "   return median   \n",
    "print('Mean is:',mean(marks))\n",
    "print('Median is:',median(marks))\n",
    "import pandas as pd\n",
    "df=pd.DataFrame(marks,columns=['marks'])\n",
    "print('Mean by pandas:',df.marks.mean())\n",
    "print('Median by pandas:',df.marks.median())\n"
   ]
  },
  {
   "cell_type": "markdown",
   "id": "02406476",
   "metadata": {},
   "source": [
    "Find the second largest number in a list without using sort()2."
   ]
  },
  {
   "cell_type": "code",
   "execution_count": 10,
   "id": "d93fa89b",
   "metadata": {},
   "outputs": [
    {
     "data": {
      "text/plain": [
       "12"
      ]
     },
     "execution_count": 10,
     "metadata": {},
     "output_type": "execute_result"
    }
   ],
   "source": [
    "#Find the second largest number in a list without using sort()\n",
    "def second_largest(marks):\n",
    "    marks=[12,4,5,3,8,7,10,15,9,11]\n",
    "    marks.remove(max(marks))\n",
    "    return max(marks)\n",
    "second_largest(marks) "
   ]
  },
  {
   "cell_type": "code",
   "execution_count": 18,
   "id": "e3e1511e",
   "metadata": {},
   "outputs": [
    {
     "name": "stdout",
     "output_type": "stream",
     "text": [
      "{2, 3, 5, 7, 11, 13, 17, 19, 23, 29, 31, 37, 41, 43, 47, 53, 59, 61, 67, 71, 73, 79, 83, 89, 97, 101, 103, 107, 109, 113}\n"
     ]
    }
   ],
   "source": [
    "#Use sets to find all prime numbers between 1 and 50\n",
    "set1=set()\n",
    "for p in range(2,int(input('Enter a number:'))+1):\n",
    "    for n in range(2,p):\n",
    "        if p%n==0:\n",
    "            break\n",
    "    else:\n",
    "       set1.add(p)\n",
    "print(set1)"
   ]
  },
  {
   "cell_type": "markdown",
   "id": "87246577",
   "metadata": {},
   "source": [
    "Python_Basic Assignments"
   ]
  },
  {
   "cell_type": "code",
   "execution_count": 4,
   "id": "ec2eac5c",
   "metadata": {},
   "outputs": [
    {
     "name": "stdout",
     "output_type": "stream",
     "text": [
      "without Swapping a: Shyam\n",
      "without Swapping b: Murali\n",
      "With Using  Variable swapping a: Murali\n",
      "With Using  Variable swapping b: Shyam\n",
      "Without Using third Variable swapping a: Shyam\n",
      "Without Using third Variable swapping b: Murali\n"
     ]
    }
   ],
   "source": [
    "#Write a python program to swap the values in two variables with and without using a third variable\n",
    "a=\"Shyam\"\n",
    "b=\"Murali\"\n",
    "#without swapping\n",
    "print(\"without Swapping a:\",a)\n",
    "print(\"without Swapping b:\",b)\n",
    "#using third variable\n",
    "temp=a\n",
    "a=b\n",
    "b=temp\n",
    "print(\"With Using  Variable swapping a:\",a)\n",
    "print(\"With Using  Variable swapping b:\",b)\n",
    "#without using third variable\n",
    "a,b=b,a\n",
    "print(\"Without Using third Variable swapping a:\",a)\n",
    "print(\"Without Using third Variable swapping b:\",b)"
   ]
  },
  {
   "cell_type": "code",
   "execution_count": 33,
   "id": "ae212ab5",
   "metadata": {},
   "outputs": [
    {
     "data": {
      "text/plain": [
       "2.110777777777778"
      ]
     },
     "execution_count": 33,
     "metadata": {},
     "output_type": "execute_result"
    }
   ],
   "source": [
    "# Write a Python program that accepts a single numeric parameter representing an angle in radians to convert into degree\n",
    "def radian(r):\n",
    "    degree=r*3.14/180\n",
    "    return degree\n",
    "radian(int(input(\"Enter the angle in radians:\")))"
   ]
  },
  {
   "cell_type": "code",
   "execution_count": 24,
   "id": "3ce367f5",
   "metadata": {},
   "outputs": [
    {
     "name": "stdout",
     "output_type": "stream",
     "text": [
      "Simple Interest: 400.0\n"
     ]
    }
   ],
   "source": [
    "#Implement a Python program that calculates simple interest based on user input for the principal amount, rate of interest, and duration.\n",
    "p=float(input(\"Enter the principal amount:\"))\n",
    "r=float(input(\"Enter the rate of interest:\"))\n",
    "t=float(input(\"Enter the time in years:\"))\n",
    "simple_interest= p * r *t/100\n",
    "print(\"Simple Interest:\",simple_interest)"
   ]
  },
  {
   "cell_type": "code",
   "execution_count": 25,
   "id": "1d881484",
   "metadata": {},
   "outputs": [
    {
     "name": "stdout",
     "output_type": "stream",
     "text": [
      "w is a consonant\n"
     ]
    }
   ],
   "source": [
    "#Create a Python program that takes a single character input and determines whether it is a vowel or consonant\n",
    "char=input(\"Enter a character:\")\n",
    "if char in 'aeiouAEIOU':\n",
    "    print(char,\"is a vowel\")\n",
    "else:\n",
    "    print(char,\"is a consonant\")"
   ]
  },
  {
   "cell_type": "code",
   "execution_count": 36,
   "id": "d998d96f",
   "metadata": {},
   "outputs": [
    {
     "name": "stdout",
     "output_type": "stream",
     "text": [
      "No real roots\n"
     ]
    }
   ],
   "source": [
    "#Write a Python programme to solve a quadratic equation. The inputs shall be taken from the user\n",
    "def q(a,b,c):\n",
    "    d=(b**2)-(4*a*c)\n",
    "    if d>0:\n",
    "        root1=(-b+d**0.5)/(2*a)\n",
    "        root2=(-b-d**0.5)/(2*a)\n",
    "        return root1,root2\n",
    "    else:\n",
    "        return \"No real roots\"\n",
    "print(q(int(input(\"Enter a:\")),int(input(\"Enter b:\")),int(input(\"Enter c:\"))))"
   ]
  },
  {
   "cell_type": "code",
   "execution_count": null,
   "id": "fbfb6af2",
   "metadata": {},
   "outputs": [],
   "source": []
  }
 ],
 "metadata": {
  "kernelspec": {
   "display_name": "Python 3",
   "language": "python",
   "name": "python3"
  },
  "language_info": {
   "codemirror_mode": {
    "name": "ipython",
    "version": 3
   },
   "file_extension": ".py",
   "mimetype": "text/x-python",
   "name": "python",
   "nbconvert_exporter": "python",
   "pygments_lexer": "ipython3",
   "version": "3.13.2"
  }
 },
 "nbformat": 4,
 "nbformat_minor": 5
}

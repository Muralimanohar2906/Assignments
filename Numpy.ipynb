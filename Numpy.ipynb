{
 "cells": [
  {
   "cell_type": "markdown",
   "id": "5c282b35",
   "metadata": {},
   "source": [
    "## 1. Run the following:"
   ]
  },
  {
   "cell_type": "code",
   "execution_count": 13,
   "id": "bd450d6a",
   "metadata": {},
   "outputs": [
    {
     "name": "stdout",
     "output_type": "stream",
     "text": [
      "<class 'numpy.ndarray'>\n",
      "Matrix Shape of a: (3,)\n",
      "Values in that Index: 1 2 3\n",
      "[5 2 3]\n",
      "Rank Of the Matrix: 1\n"
     ]
    }
   ],
   "source": [
    "import numpy as np\n",
    "a = np.array([1, 2, 3])\n",
    "print(type(a))\n",
    "print(\"Matrix Shape of a:\",a.shape)\n",
    "print(\"Values in that Index:\",a[0], a[1], a[2])\n",
    "a[0] = 5\n",
    "print(a)\n",
    "rank=np.linalg.matrix_rank(a)\n",
    "print(\"Rank Of the Matrix:\",rank)"
   ]
  },
  {
   "cell_type": "markdown",
   "id": "70618d91",
   "metadata": {},
   "source": [
    "## 2. Run the following:"
   ]
  },
  {
   "cell_type": "code",
   "execution_count": 17,
   "id": "05e9bed2",
   "metadata": {},
   "outputs": [
    {
     "name": "stdout",
     "output_type": "stream",
     "text": [
      "Matrix Of B: [[1 2 3]\n",
      " [4 5 6]]\n",
      "Shape of Matrix B: (2, 3)\n",
      "Values with indexing: 1 2 4\n",
      "rank of b: 2\n"
     ]
    }
   ],
   "source": [
    "b = np.array([[1, 2, 3], [4, 5, 6]])\n",
    "print(\"Matrix Of B:\",b)\n",
    "print(\"Shape of Matrix B:\",b.shape)\n",
    "print(\"Values with indexing:\",b[0,0],b[0,1],b[1,0])\n",
    "rank=np.linalg.matrix_rank(b)\n",
    "print(\"rank of b:\",rank)"
   ]
  },
  {
   "cell_type": "markdown",
   "id": "cabf4665",
   "metadata": {},
   "source": [
    "## 3. Numpy also provides many functions to create arrays. Assign the correct comment to each of the"
   ]
  },
  {
   "cell_type": "code",
   "execution_count": 23,
   "id": "1bea6bdd",
   "metadata": {},
   "outputs": [
    {
     "name": "stdout",
     "output_type": "stream",
     "text": [
      "value of a: [[0. 0.]\n",
      " [0. 0.]] \n",
      "Value of b: [[1. 1.]] \n",
      "value of c: [[7 7]\n",
      " [7 7]] \n",
      "value of d: [[0.65838783 0.74451317]\n",
      " [0.65705225 0.61526157]] \n",
      "value of e: [[1. 0.]\n",
      " [0. 1.]]\n"
     ]
    }
   ],
   "source": [
    "a=np.zeros((2,2))\n",
    "b=np.ones((1,2))\n",
    "c=np.full((2,2), 7)\n",
    "d=np.random.random((2,2))\n",
    "e=np.eye(2)\n",
    "print(\"value of a:\", a, \"\\nValue of b:\", b, \"\\nvalue of c:\", c, \"\\nvalue of d:\", d, \"\\nvalue of e:\", e)"
   ]
  },
  {
   "cell_type": "markdown",
   "id": "d008a327",
   "metadata": {},
   "source": [
    "## 4. Run the following"
   ]
  },
  {
   "cell_type": "code",
   "execution_count": 37,
   "id": "a2b1933f",
   "metadata": {},
   "outputs": [
    {
     "name": "stdout",
     "output_type": "stream",
     "text": [
      "shape of A: (3, 4)\n",
      "shape of B (2, 2)\n",
      "Values in B [[2 3]\n",
      " [6 7]]\n"
     ]
    }
   ],
   "source": [
    "a=np.array([[1,2,3,4], [5,6,7,8], [9,10,11,12]])\n",
    "print(\"shape of A:\",a.shape)\n",
    "b=a[:2, 1:3]\n",
    "print(\"shape of B\",b.shape)\n",
    "print(\"Values in B\",b)\n"
   ]
  },
  {
   "cell_type": "markdown",
   "id": "5e6402d6",
   "metadata": {},
   "source": [
    "## 5.(a) A slice of an array is a view into the same data. Follow the comments in the following snippet "
   ]
  },
  {
   "cell_type": "code",
   "execution_count": 38,
   "id": "33bb8f97",
   "metadata": {},
   "outputs": [
    {
     "name": "stdout",
     "output_type": "stream",
     "text": [
      "Value Before Modification: 2\n"
     ]
    }
   ],
   "source": [
    "print(\"Value Before Modification:\",a[0, 1])"
   ]
  },
  {
   "cell_type": "markdown",
   "id": "503a6d76",
   "metadata": {},
   "source": [
    "## 5.(b) What does the last line print? Does modifying b modify the original array?"
   ]
  },
  {
   "cell_type": "code",
   "execution_count": 39,
   "id": "a6c81f5d",
   "metadata": {},
   "outputs": [
    {
     "name": "stdout",
     "output_type": "stream",
     "text": [
      "Modifyed B: 77\n"
     ]
    }
   ],
   "source": [
    "b[0, 0] = 77\n",
    "print(\"Modifyed B:\",a[0, 1])"
   ]
  },
  {
   "cell_type": "markdown",
   "id": "7d305b07",
   "metadata": {},
   "source": [
    "## 6 What are the values and shapes of col r1 and col r2?"
   ]
  },
  {
   "cell_type": "code",
   "execution_count": 49,
   "id": "e7473b95",
   "metadata": {},
   "outputs": [
    {
     "name": "stdout",
     "output_type": "stream",
     "text": [
      "Row Values Of r1: [5 6 7 8] \n",
      " Row shape of r1: (4,)\n",
      "Row Values Of r2: [[5 6 7 8]] \n",
      " Row shape of r2: (1, 4)\n",
      "col Values Of r1: [ 2  6 10] \n",
      " Colshape of r1: (3,)\n",
      "Col Values Of r2: [[ 2]\n",
      " [ 6]\n",
      " [10]] \n",
      " Col shape of r2: (3, 1)\n"
     ]
    }
   ],
   "source": [
    "a = np.array([[1,2,3,4], [5,6,7,8], [9,10,11,12]])\n",
    "row_r1 = a[1, :]\n",
    "row_r2 =a[1:2,:]\n",
    "print(\"Row Values Of r1:\",row_r1,\"\\n Row shape of r1:\",row_r1.shape)\n",
    "print(\"Row Values Of r2:\",row_r2,\"\\n Row shape of r2:\",row_r2.shape)\n",
    "col_r1=a[:,1]\n",
    "col_r2=a[:,1:2]\n",
    "print(\"col Values Of r1:\",col_r1,\"\\n Colshape of r1:\",col_r1.shape)\n",
    "print(\"Col Values Of r2:\",col_r2,\"\\n Col shape of r2:\",col_r2.shape)"
   ]
  },
  {
   "cell_type": "markdown",
   "id": "f72da222",
   "metadata": {},
   "source": [
    "## 7 Are the two printed arrays equivalent?"
   ]
  },
  {
   "cell_type": "code",
   "execution_count": null,
   "id": "6736f853",
   "metadata": {},
   "outputs": [
    {
     "name": "stdout",
     "output_type": "stream",
     "text": [
      "[1 4 5]\n",
      "[1 4 5]\n"
     ]
    }
   ],
   "source": [
    "a = np.array([[1,2], [3, 4], [5, 6]])\n",
    "print(a[[0, 1, 2], [0, 1, 0]])\n",
    "print(np.array([a[0, 0], a[1, 1], a[2, 0]]))\n"
   ]
  },
  {
   "cell_type": "markdown",
   "id": "32d45988",
   "metadata": {},
   "source": [
    "## 8 Are the two printed arrays equivalent?"
   ]
  },
  {
   "cell_type": "code",
   "execution_count": 59,
   "id": "7db43cb3",
   "metadata": {},
   "outputs": [
    {
     "name": "stdout",
     "output_type": "stream",
     "text": [
      "Values of B: [2 2]\n",
      "Values of C: [2 2]\n"
     ]
    }
   ],
   "source": [
    "a = np.array([[1,2], [3, 4], [5, 6]])\n",
    "b = a[[0, 0], [1, 1]]\n",
    "print(\"Values of B:\", b)\n",
    "c = np.array([a[0, 1], a[0, 1]])\n",
    "print(\"Values of C:\", c)"
   ]
  },
  {
   "cell_type": "markdown",
   "id": "408def12",
   "metadata": {},
   "source": [
    "## 9. One useful trick with integer array indexing is selecting or mutating one element from each row of a matrix."
   ]
  },
  {
   "cell_type": "code",
   "execution_count": 63,
   "id": "932e66d5",
   "metadata": {},
   "outputs": [
    {
     "name": "stdout",
     "output_type": "stream",
     "text": [
      "Values Of A: [[ 1  2  3]\n",
      " [ 4  5  6]\n",
      " [ 7  8  9]\n",
      " [10 11 12]]\n",
      "Values Of B: [0 2 0 1]\n",
      "Picked Values: [ 1  6  7 11]\n",
      "Values of After: [[11  2  3]\n",
      " [ 4  5 16]\n",
      " [17  8  9]\n",
      " [10 21 12]]\n"
     ]
    }
   ],
   "source": [
    "a=np.array([[1,2,3],[4,5,6], [7,8,9], [10, 11, 12]])\n",
    "print(\"Values Of A:\",a)\n",
    "b=np.array([0, 2,0, 1])\n",
    "print(\"Values Of B:\",b)\n",
    "print(\"Picked Values:\",a[np.arange(4), b])\n",
    "a[np.arange(4),b] += 10\n",
    "print(\"Values of After:\",a )\n"
   ]
  },
  {
   "cell_type": "markdown",
   "id": "228978c9",
   "metadata": {},
   "source": [
    "## 10. Run the following"
   ]
  },
  {
   "cell_type": "code",
   "execution_count": 66,
   "id": "ee862adb",
   "metadata": {},
   "outputs": [
    {
     "name": "stdout",
     "output_type": "stream",
     "text": [
      "Values Of bool_idx: [3 4 5 6]\n",
      "shape Of bool_idx: (4,)\n",
      "Values Of: [3 4 5 6]\n",
      "Shape Of: (4,)\n"
     ]
    }
   ],
   "source": [
    "a=np.array([[1,2], [3, 4], [5, 6]])\n",
    "bool_idx=(a>2)\n",
    "print(\"Values Of bool_idx:\",a[bool_idx])\n",
    "print(\"shape Of bool_idx:\",a[bool_idx].shape)\n",
    "print(\"Values Of:\",a[a>2])\n",
    "print(\"Shape Of:\",a[a>2].shape)\n"
   ]
  },
  {
   "cell_type": "markdown",
   "id": "43c61b3c",
   "metadata": {},
   "source": [
    "## 11.What are the datatypes of x, y, z?"
   ]
  },
  {
   "cell_type": "code",
   "execution_count": 68,
   "id": "e6aed911",
   "metadata": {},
   "outputs": [
    {
     "name": "stdout",
     "output_type": "stream",
     "text": [
      "Data Type Of X: int64\n",
      "Data Type Of Y: float64\n",
      "Data Type Of Z: int32\n"
     ]
    }
   ],
   "source": [
    "x = np.array([1, 2])\n",
    "print(\"Data Type Of X:\",x.dtype)\n",
    "y = np.array([1.0, 2.0])\n",
    "print(\"Data Type Of Y:\",y.dtype)\n",
    "z = np.array([1, 2], dtype=np.int32)\n",
    "print(\"Data Type Of Z:\",z.dtype)"
   ]
  },
  {
   "cell_type": "markdown",
   "id": "6aae4020",
   "metadata": {},
   "source": [
    "## 12. Give the output for each print statement in the following code snippet"
   ]
  },
  {
   "cell_type": "code",
   "execution_count": 73,
   "id": "9f6eabd5",
   "metadata": {},
   "outputs": [
    {
     "name": "stdout",
     "output_type": "stream",
     "text": [
      "Addition of: [[ 6.  8.]\n",
      " [10. 12.]]\n",
      "Addition of: [[ 6.  8.]\n",
      " [10. 12.]]\n",
      "Subtraction of: [[-4. -4.]\n",
      " [-4. -4.]]\n",
      "Subtraction of: [[-4. -4.]\n",
      " [-4. -4.]]\n",
      "Multipliction of: [[ 5. 12.]\n",
      " [21. 32.]]\n",
      "Multipliction of: [[ 5. 12.]\n",
      " [21. 32.]]\n",
      "Divison of: [[0.2        0.33333333]\n",
      " [0.42857143 0.5       ]]\n",
      "Divison of: [[0.2        0.33333333]\n",
      " [0.42857143 0.5       ]]\n",
      "Squares of: [[1.         1.41421356]\n",
      " [1.73205081 2.        ]]\n"
     ]
    }
   ],
   "source": [
    "x=np.array([[1,2],[3,4]],dtype=np.float64)\n",
    "y=np.array([[5,6],[7,8]],dtype=np.float64)\n",
    "print(\"Addition of:\",x+y)\n",
    "print(\"Addition of:\",np.add(x,y))\n",
    "print(\"Subtraction of:\",x-y)\n",
    "print(\"Subtraction of:\",np.subtract(x,y))\n",
    "print(\"Multipliction of:\",x*y)\n",
    "print(\"Multipliction of:\",np.multiply(x,y))\n",
    "print(\"Divison of:\",x/y)\n",
    "print(\"Divison of:\",np.divide(x,y))\n",
    "print(\"Squares of:\",np.sqrt(x))"
   ]
  },
  {
   "cell_type": "markdown",
   "id": "9a4bdea2",
   "metadata": {},
   "source": [
    "## 13 What are the mathematical operations performed by the last two instructions?"
   ]
  },
  {
   "cell_type": "code",
   "execution_count": null,
   "id": "7f3641fe",
   "metadata": {},
   "outputs": [
    {
     "name": "stdout",
     "output_type": "stream",
     "text": [
      "219\n",
      "219\n"
     ]
    }
   ],
   "source": [
    "v=np.array([9,10])\n",
    "w=np.array([11, 12])\n",
    "print(v.dot(w))\n",
    "print(np.dot(v, w))"
   ]
  },
  {
   "cell_type": "code",
   "execution_count": 75,
   "id": "2fa0489c",
   "metadata": {},
   "outputs": [
    {
     "name": "stdout",
     "output_type": "stream",
     "text": [
      "[29 67]\n",
      "[105. 143.]\n"
     ]
    }
   ],
   "source": [
    "x = np.array([[1,2],[3,4]])\n",
    "print(x.dot(v))\n",
    "print(np.dot(y, v))"
   ]
  },
  {
   "cell_type": "markdown",
   "id": "ddde2db5",
   "metadata": {},
   "source": [
    "## 15 Can you write the same code for the product of y with x?"
   ]
  },
  {
   "cell_type": "code",
   "execution_count": 80,
   "id": "4cd97875",
   "metadata": {},
   "outputs": [
    {
     "name": "stdout",
     "output_type": "stream",
     "text": [
      "[[19 22 25]\n",
      " [43 50 57]]\n",
      "10\n",
      "[4 6]\n",
      "[3 7]\n"
     ]
    }
   ],
   "source": [
    "x = np.array([[1,2],[3,4]])\n",
    "y = np.array([[5,6,7],[7,8,9]])\n",
    "print(np.dot(x, y))\n",
    "print(np.sum(x))\n",
    "print(np.sum(x, axis=0))\n",
    "print(np.sum(x, axis=1))"
   ]
  },
  {
   "cell_type": "markdown",
   "id": "f9598e72",
   "metadata": {},
   "source": [
    "## 16 What is the transpose of x? How is it different from x?"
   ]
  },
  {
   "cell_type": "code",
   "execution_count": 82,
   "id": "ee4f1c42",
   "metadata": {},
   "outputs": [
    {
     "name": "stdout",
     "output_type": "stream",
     "text": [
      "Value ofx: [[1 2 3]\n",
      " [3 4 5]]\n",
      "transpose of X: [[1 3]\n",
      " [2 4]\n",
      " [3 5]]\n"
     ]
    }
   ],
   "source": [
    "x = np.array([[1,2,3], [3,4,5]])\n",
    "print(\"Value ofx:\",x)\n",
    "print(\"transpose of X:\",x.T)"
   ]
  },
  {
   "cell_type": "markdown",
   "id": "0b548a15",
   "metadata": {},
   "source": [
    "## 17 Complete the following code in order to add the vector v to each row of a matrix x:"
   ]
  },
  {
   "cell_type": "code",
   "execution_count": 95,
   "id": "154ac71b",
   "metadata": {},
   "outputs": [
    {
     "name": "stdout",
     "output_type": "stream",
     "text": [
      "Result Of: [[ 2.  2.  4.]\n",
      " [ 5.  5.  7.]\n",
      " [ 8.  8. 10.]\n",
      " [11. 11. 13.]]\n"
     ]
    }
   ],
   "source": [
    "x=np.array([[1,2,3],[4,5,6], [7,8,9], [10, 11, 12]])\n",
    "v=np.array([1,0,1])\n",
    "y=np.zeros(x.shape)\n",
    "for i in range(x.shape[0]):\n",
    "    for j in range(x.shape[1]):\n",
    "        y[i,j]=x[i,j]+v[j]\n",
    "print(\"Result Of:\",y)\n",
    "\n",
    "\n",
    "\n"
   ]
  },
  {
   "cell_type": "markdown",
   "id": "6c51cfec",
   "metadata": {},
   "source": [
    "## 18 The previous solution works well; however when the matrix x is very large, computing an explicit loop in Python could be slow. An alternative is to use tile. Run the following and interpret the result"
   ]
  },
  {
   "cell_type": "code",
   "execution_count": 99,
   "id": "110cf914",
   "metadata": {},
   "outputs": [
    {
     "name": "stdout",
     "output_type": "stream",
     "text": [
      "[[1 0 1]\n",
      " [1 0 1]\n",
      " [1 0 1]\n",
      " [1 0 1]]\n",
      "Final Result: [[ 2  2  4]\n",
      " [ 5  5  7]\n",
      " [ 8  8 10]\n",
      " [11 11 13]]\n"
     ]
    }
   ],
   "source": [
    "vv = np.tile(v, (4, 1))\n",
    "print(vv)\n",
    "x=np.array([[1,2,3],[4,5,6], [7,8,9], [10, 11, 12]])\n",
    "v=np.array([1,0,1])\n",
    "y=np.zeros(x.shape)\n",
    "vv = np.tile(v, (x.shape[0], 1))\n",
    "y = x + vv\n",
    "print(\"Final Result:\",y)\n"
   ]
  },
  {
   "cell_type": "markdown",
   "id": "52df8486",
   "metadata": {},
   "source": [
    "## 19"
   ]
  },
  {
   "cell_type": "code",
   "execution_count": 118,
   "id": "414026d4",
   "metadata": {},
   "outputs": [
    {
     "name": "stdout",
     "output_type": "stream",
     "text": [
      "Value Of Y: [[ 2  2  4]\n",
      " [ 5  5  7]\n",
      " [ 8  8 10]\n",
      " [11 11 13]]\n",
      "Reshape Result Of v: [[1 2 3]]\n"
     ]
    }
   ],
   "source": [
    "x = np.array([[1,2,3], [4,5,6], [7,8,9], [10, 11, 12]])\n",
    "v = np.array([1,0,1])\n",
    "y = x + v\n",
    "print(\"Value Of Y:\", y)\n",
    "v = np.array([1,2,3])\n",
    "w = np.array([4,5])\n",
    "r = v.reshape(1, 3)\n",
    "print(\"Reshape Result Of v:\", r)\n"
   ]
  },
  {
   "cell_type": "markdown",
   "id": "f2cf1653",
   "metadata": {},
   "source": [
    "## 20"
   ]
  },
  {
   "cell_type": "code",
   "execution_count": 119,
   "id": "36dfe0ff",
   "metadata": {},
   "outputs": [
    {
     "name": "stdout",
     "output_type": "stream",
     "text": [
      "X1 Value: [[1 2 3]\n",
      " [4 5 6]]\n",
      "adding v to each row of x: [[2 4 6]\n",
      " [5 7 9]]\n"
     ]
    }
   ],
   "source": [
    "x1 = np.array([[1,2,3], [4,5,6]])\n",
    "print(\"X1 Value:\",x1)\n",
    "y1 = x1 + r\n",
    "print(\"adding v to each row of x:\",y1)"
   ]
  },
  {
   "cell_type": "markdown",
   "id": "a8c01b73",
   "metadata": {},
   "source": [
    "## 21"
   ]
  },
  {
   "cell_type": "code",
   "execution_count": 120,
   "id": "8113cc21",
   "metadata": {},
   "outputs": [
    {
     "name": "stdout",
     "output_type": "stream",
     "text": [
      "adding w to each column of x: [[ 5  6  7]\n",
      " [ 9 10 11]]\n"
     ]
    }
   ],
   "source": [
    "y2 = x1 + w.reshape(2, 1)\n",
    "print(\"adding w to each column of x:\", y2)"
   ]
  },
  {
   "cell_type": "markdown",
   "id": "548d50ba",
   "metadata": {},
   "source": [
    "## 22"
   ]
  },
  {
   "cell_type": "code",
   "execution_count": 121,
   "id": "e6837197",
   "metadata": {},
   "outputs": [
    {
     "name": "stdout",
     "output_type": "stream",
     "text": [
      "Multiply X with 2 is: [[ 2  4  6]\n",
      " [ 8 10 12]]\n"
     ]
    }
   ],
   "source": [
    "y = x1 * 2 \n",
    "print(\"Multiply X with 2 is:\",y)"
   ]
  }
 ],
 "metadata": {
  "kernelspec": {
   "display_name": "Python 3",
   "language": "python",
   "name": "python3"
  },
  "language_info": {
   "codemirror_mode": {
    "name": "ipython",
    "version": 3
   },
   "file_extension": ".py",
   "mimetype": "text/x-python",
   "name": "python",
   "nbconvert_exporter": "python",
   "pygments_lexer": "ipython3",
   "version": "3.13.2"
  }
 },
 "nbformat": 4,
 "nbformat_minor": 5
}

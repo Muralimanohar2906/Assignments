{
 "cells": [
  {
   "cell_type": "code",
   "execution_count": 2,
   "id": "70d25e7a",
   "metadata": {},
   "outputs": [],
   "source": [
    "import pandas as pd"
   ]
  },
  {
   "cell_type": "markdown",
   "id": "1a395ba2",
   "metadata": {},
   "source": [
    "## 1 Series andthen double the value in series and store inanother series named Series2"
   ]
  },
  {
   "cell_type": "code",
   "execution_count": 13,
   "id": "01b141b1",
   "metadata": {},
   "outputs": [
    {
     "name": "stdout",
     "output_type": "stream",
     "text": [
      "Values of S1:\n",
      " A    100\n",
      "B    200\n",
      "C    300\n",
      "D    400\n",
      "E    500\n",
      "dtype: int64\n",
      "Values of S2:\n",
      " A     200\n",
      "B     400\n",
      "C     600\n",
      "D     800\n",
      "E    1000\n",
      "dtype: int64\n"
     ]
    }
   ],
   "source": [
    "s1 = pd.Series([100, 200, 300, 400, 500],index=['A','B','C','D','E'])\n",
    "print(\"Values of S1:\\n\",s1)\n",
    "s2 = (2 * s1)\n",
    "print(\"Values of S2:\\n\", s2)"
   ]
  },
  {
   "cell_type": "code",
   "execution_count": null,
   "id": "b66de50a",
   "metadata": {},
   "outputs": [],
   "source": []
  },
  {
   "cell_type": "markdown",
   "id": "a1626a03",
   "metadata": {},
   "source": [
    "## 2 Write a program in Python Pandas to create the series and display it."
   ]
  },
  {
   "cell_type": "code",
   "execution_count": 17,
   "id": "68aaeb19",
   "metadata": {},
   "outputs": [
    {
     "name": "stdout",
     "output_type": "stream",
     "text": [
      "Values of S1:\n",
      " 200    700\n",
      "201    700\n",
      "202    700\n",
      "203    700\n",
      "204    700\n",
      "dtype: int64\n"
     ]
    }
   ],
   "source": [
    "s1=pd.Series(700,index=[200,201,202,203,204])\n",
    "print(\"Values of S1:\\n\",s1)"
   ]
  },
  {
   "cell_type": "markdown",
   "id": "8fad3b46",
   "metadata": {},
   "source": [
    "## 4 Write the Python syntax which will display only IP.Write the Python syntax to increase marks of all subjects by 10."
   ]
  },
  {
   "cell_type": "code",
   "execution_count": 24,
   "id": "44c8cd44",
   "metadata": {},
   "outputs": [
    {
     "name": "stdout",
     "output_type": "stream",
     "text": [
      "IP           95\n",
      "PHYSICS      89\n",
      "CHEMISTRY    92\n",
      "MATH         95\n",
      "dtype: int64\n",
      "IP Value:\n",
      " 95\n",
      "Increased Marks 10:\n",
      " IP           105\n",
      "PHYSICS       99\n",
      "CHEMISTRY    102\n",
      "MATH         105\n",
      "dtype: int64\n"
     ]
    }
   ],
   "source": [
    "s1=pd.Series([95,89,92,95],index=[\"IP\",\"PHYSICS\",\"CHEMISTRY\",\"MATH\"])\n",
    "print(s1)\n",
    "print(\"IP Value:\\n\",s1[\"IP\"])\n",
    "print(\"Increased Marks 10:\\n\",s1+10)"
   ]
  },
  {
   "cell_type": "code",
   "execution_count": 27,
   "id": "8ed22a3d",
   "metadata": {},
   "outputs": [
    {
     "data": {
      "text/plain": [
       "QTR1    50000\n",
       "QTR2    65890\n",
       "QTR3    56780\n",
       "QTR4    89000\n",
       "QTR5    77900\n",
       "dtype: int64"
      ]
     },
     "metadata": {},
     "output_type": "display_data"
    }
   ],
   "source": [
    "s1=pd.Series([50000,65890,56780,89000,77900],index=[\"QTR1\",\"QTR2\",\"QTR3\",\"QTR4\",\"QTR5\"])\n",
    "display(s1)"
   ]
  },
  {
   "cell_type": "markdown",
   "id": "60bcef9a",
   "metadata": {},
   "source": [
    "## 6 What will be the output produced by the following programming statements 1 & 2?"
   ]
  },
  {
   "cell_type": "code",
   "execution_count": 33,
   "id": "756e85cc",
   "metadata": {},
   "outputs": [
    {
     "name": "stdout",
     "output_type": "stream",
     "text": [
      "Statement S1:\n",
      " 0    False\n",
      "1     True\n",
      "2     True\n",
      "dtype: bool\n",
      "Statement S2:\n",
      " 1    41\n",
      "2    51\n",
      "dtype: int64\n"
     ]
    }
   ],
   "source": [
    "S1=pd.Series(data=[31,41,51])\n",
    "print(\"Statement S1:\\n\",S1>40)\n",
    "print(\"Statement S2:\\n\",S1[S1>40])"
   ]
  },
  {
   "cell_type": "markdown",
   "id": "de619e35",
   "metadata": {},
   "source": [
    "## 7 Find the output for following python pandas statements?"
   ]
  },
  {
   "cell_type": "code",
   "execution_count": 37,
   "id": "40065b6a",
   "metadata": {},
   "outputs": [
    {
     "name": "stdout",
     "output_type": "stream",
     "text": [
      "VAlues Of A:\n",
      " A    3900\n",
      "B    4100\n",
      "dtype: int64\n",
      "VAlues Of B:\n",
      " A    390\n",
      "B    410\n",
      "C    420\n",
      "D    440\n",
      "dtype: int64\n",
      "VAlues Of C:\n",
      " D    100\n",
      "C    100\n",
      "B    100\n",
      "A    100\n",
      "dtype: int64\n"
     ]
    }
   ],
   "source": [
    "s1=pd.Series([39,41,42,44],index=[\"A\",\"B\",\"C\",\"D\"])\n",
    "s2=pd.Series([10,10,10,10],index=[\"A\",\"B\",\"C\",\"D\"])\n",
    "print(\"VAlues Of A:\\n\",s1[:2]*100)\n",
    "print(\"VAlues Of B:\\n\",s1*s2)\n",
    "print(\"VAlues Of C:\\n\",s2[::-1]*10)\n"
   ]
  },
  {
   "cell_type": "markdown",
   "id": "c08de94c",
   "metadata": {},
   "source": [
    "## 8 Write the command to find the multiplication of series S1 and S2"
   ]
  },
  {
   "cell_type": "code",
   "execution_count": 38,
   "id": "835bd5ca",
   "metadata": {},
   "outputs": [
    {
     "name": "stdout",
     "output_type": "stream",
     "text": [
      "Multiplication of S1 * S2:\n",
      " A     50\n",
      "B     80\n",
      "C    180\n",
      "D    320\n",
      "dtype: int64\n"
     ]
    }
   ],
   "source": [
    "s1=pd.Series([10,20,30,40],index=[\"A\",\"B\",\"C\",\"D\"])\n",
    "s2=pd.Series([5,4,6,8],index=[\"A\",\"B\",\"C\",\"D\"])\n",
    "print(\"Multiplication of S1 * S2:\\n\",s1*s2)"
   ]
  },
  {
   "cell_type": "markdown",
   "id": "72a210fc",
   "metadata": {},
   "source": [
    "## 9 Write a program in Python Pandas to create this series"
   ]
  },
  {
   "cell_type": "code",
   "execution_count": 39,
   "id": "15326fca",
   "metadata": {},
   "outputs": [
    {
     "name": "stdout",
     "output_type": "stream",
     "text": [
      "Subjects With Marks:\n",
      " ENGLISH    75\n",
      "HINDI      78\n",
      "MATHS      82\n",
      "SCIENCE    86\n",
      "dtype: int64\n"
     ]
    }
   ],
   "source": [
    "s1=pd.Series([75,78,82,86],index=[\"ENGLISH\",\"HINDI\",\"MATHS\",\"SCIENCE\"])\n",
    "print(\"Subjects With Marks:\\n\",s1)"
   ]
  },
  {
   "cell_type": "markdown",
   "id": "fd775930",
   "metadata": {},
   "source": [
    "## 10 Consider the following Series object, “company” and its profit in Crores"
   ]
  },
  {
   "cell_type": "code",
   "execution_count": 49,
   "id": "9da2a301",
   "metadata": {},
   "outputs": [
    {
     "name": "stdout",
     "output_type": "stream",
     "text": [
      "Complete table:\n",
      " TCS         350\n",
      "RELIANCE    200\n",
      "L&T         800\n",
      "WIPRO       150\n",
      "dtype: int64\n",
      "Profit>250:\n",
      " TCS    350\n",
      "L&T    800\n",
      "dtype: int64\n",
      "Changed name to Profit:\n",
      " Profit\n"
     ]
    }
   ],
   "source": [
    "s1=pd.Series([350,200,800,150],index=[\"TCS\",\"RELIANCE\",\"L&T\",\"WIPRO\"])\n",
    "print(\"Complete table:\\n\",s1)\n",
    "print(\"Profit>250:\\n\",s1[s1>250])\n",
    "s1.name = \"Profit\"\n",
    "print(\"Changed name to Profit:\\n\",s1.name)"
   ]
  },
  {
   "cell_type": "markdown",
   "id": "49ccb002",
   "metadata": {},
   "source": [
    "## 11 Consider two objects a and b.a is a list whereas b is a Series. Both have values 10,20,25,50."
   ]
  },
  {
   "cell_type": "code",
   "execution_count": 50,
   "id": "e201b330",
   "metadata": {},
   "outputs": [
    {
     "name": "stdout",
     "output_type": "stream",
     "text": [
      "Values Of A: [10, 20, 25, 50, 10, 20, 25, 50]\n",
      "Values Of B:\n",
      " 0    20\n",
      "1    40\n",
      "2    50\n",
      "3    60\n",
      "dtype: int64\n"
     ]
    }
   ],
   "source": [
    "a=[10,20,25,50]\n",
    "print(\"Values Of A:\",a*2)\n",
    "b=pd.Series([10,20,25,30])\n",
    "print(\"Values Of B:\\n\",b*2)"
   ]
  },
  {
   "cell_type": "markdown",
   "id": "692ea218",
   "metadata": {},
   "source": [
    "## 12 Given a Pandas series called Sample, thecommand which will display the last 3 rowsis.\n",
    "print(Sample.tail(3))--------Correct Syntax\n",
    "print(Sample.Tail(3))\n",
    "print(Sample.tails(3))\n",
    "print(Sample.Tails(3))"
   ]
  },
  {
   "cell_type": "markdown",
   "id": "991c6e81",
   "metadata": {},
   "source": [
    "## 13 What will be the output of the followingcode?"
   ]
  },
  {
   "cell_type": "code",
   "execution_count": 51,
   "id": "f4ece2f4",
   "metadata": {},
   "outputs": [
    {
     "name": "stdout",
     "output_type": "stream",
     "text": [
      "0    6\n",
      "1    6\n",
      "2    6\n",
      "3    6\n",
      "4    6\n",
      "dtype: int64\n"
     ]
    }
   ],
   "source": [
    "s = pd.Series(6,index=range(0,5))\n",
    "print(s)"
   ]
  },
  {
   "cell_type": "markdown",
   "id": "6850ec6f",
   "metadata": {},
   "source": [
    "## 14 If series s1 is having following data,"
   ]
  },
  {
   "cell_type": "code",
   "execution_count": 52,
   "id": "698b1bcb",
   "metadata": {},
   "outputs": [
    {
     "name": "stdout",
     "output_type": "stream",
     "text": [
      "Original Series:\n",
      " 1     6\n",
      "3     1\n",
      "5     3\n",
      "7     5\n",
      "9     4\n",
      "11    8\n",
      "13    7\n",
      "15    4\n",
      "17    6\n",
      "19    7\n",
      "dtype: int64\n",
      "\n",
      "Result of s1[3:6]:\n",
      " 7     5\n",
      "9     4\n",
      "11    8\n",
      "dtype: int64\n"
     ]
    }
   ],
   "source": [
    "s1 = pd.Series([6, 1, 3, 5, 4, 8, 7, 4, 6, 7],index=[1, 3, 5, 7, 9, 11, 13, 15, 17, 19])\n",
    "print(\"Original Series:\\n\", s1)\n",
    "print(\"\\nResult of s1[3:6]:\\n\",s1[3:6])"
   ]
  },
  {
   "cell_type": "markdown",
   "id": "f7d9907c",
   "metadata": {},
   "source": [
    "## 15 What will be the output of the following code?"
   ]
  },
  {
   "cell_type": "code",
   "execution_count": 53,
   "id": "a0268555",
   "metadata": {},
   "outputs": [
    {
     "name": "stdout",
     "output_type": "stream",
     "text": [
      "Values Of S:\n",
      " 0    10\n",
      "1    20\n",
      "2    30\n",
      "3    40\n",
      "dtype: int64\n",
      "Dimension:\n",
      " 1\n",
      "Shape of S:\n",
      " (4,)\n",
      "Length of S:\n",
      " 4\n"
     ]
    }
   ],
   "source": [
    "import pandas as pd\n",
    "import numpy as np\n",
    "s = pd.Series(np.arange(10,50,10))\n",
    "print(\"Values Of S:\\n\",s)\n",
    "print (\"Dimension:\\n\",s.ndim)\n",
    "print(\"Shape of S:\\n\",s.shape)\n",
    "print(\"Length of S:\\n\",len(s))"
   ]
  },
  {
   "cell_type": "markdown",
   "id": "35aa2235",
   "metadata": {},
   "source": [
    "## 16 Write a program to create a Series having 10 random numbers in the range of 10 and 20"
   ]
  },
  {
   "cell_type": "code",
   "execution_count": 56,
   "id": "eacc722d",
   "metadata": {},
   "outputs": [
    {
     "name": "stdout",
     "output_type": "stream",
     "text": [
      "Random Marks:\n",
      " [13 13 13 12 16 12 16 19 12 11]\n",
      "Series random numbers:\n",
      " 0    13\n",
      "1    13\n",
      "2    13\n",
      "3    12\n",
      "4    16\n",
      "5    12\n",
      "6    16\n",
      "7    19\n",
      "8    12\n",
      "9    11\n",
      "dtype: int32\n"
     ]
    }
   ],
   "source": [
    "s1 = np.random.randint(10, 20, size=10)\n",
    "print(\"Random Marks:\\n\",s1)\n",
    "s2 = pd.Series(s1)\n",
    "print(\"Series random numbers:\\n\",s2)"
   ]
  },
  {
   "cell_type": "markdown",
   "id": "e3e71a51",
   "metadata": {},
   "source": [
    "## 17 Consider the following Series ‘s’-"
   ]
  },
  {
   "cell_type": "code",
   "execution_count": 59,
   "id": "16c50aab",
   "metadata": {},
   "outputs": [
    {
     "name": "stdout",
     "output_type": "stream",
     "text": [
      "1     4.0\n",
      "2     5.0\n",
      "3     7.0\n",
      "4     NaN\n",
      "5     1.0\n",
      "6    10.0\n",
      "dtype: float64\n",
      "Adding 1 to S1:\n",
      " 1     5.0\n",
      "2     6.0\n",
      "3     8.0\n",
      "4     NaN\n",
      "5     2.0\n",
      "6    11.0\n",
      "dtype: float64\n",
      "After filling NaN with 0:\n",
      " 1     4.0\n",
      "2     5.0\n",
      "3     7.0\n",
      "4     0.0\n",
      "5     1.0\n",
      "6    10.0\n",
      "dtype: float64\n"
     ]
    }
   ],
   "source": [
    "import numpy as np\n",
    "\n",
    "s1 = pd.Series([4.0, 5.0, 7.0, np.nan, 1.0, 10.0], index=[1, 2, 3, 4, 5, 6])\n",
    "print(s1)\n",
    "print(\"Adding 1 to S1:\\n\", s1 + 1)\n",
    "s = s1.fillna(0)\n",
    "print(\"After filling NaN with 0:\\n\", s)\n"
   ]
  },
  {
   "cell_type": "markdown",
   "id": "452482c9",
   "metadata": {},
   "source": [
    "## 18 Predict the output of the following code."
   ]
  },
  {
   "cell_type": "code",
   "execution_count": 60,
   "id": "6e4d1790",
   "metadata": {},
   "outputs": [
    {
     "name": "stdout",
     "output_type": "stream",
     "text": [
      "one      a\n",
      "two      b\n",
      "three    c\n",
      "dtype: object\n",
      "3\n"
     ]
    }
   ],
   "source": [
    "import pandas as pd\n",
    "import numpy as np\n",
    "data = {'one':'a','two':'b','three':'c'}\n",
    "s=pd.Series(data)\n",
    "print(s)\n",
    "print(s.size)"
   ]
  },
  {
   "cell_type": "markdown",
   "id": "bcceb237",
   "metadata": {},
   "source": [
    "## 19 Create a Series object S1 using a python sequence [2,4,6,8] and default indices."
   ]
  },
  {
   "cell_type": "code",
   "execution_count": 62,
   "id": "bcb1c5c9",
   "metadata": {},
   "outputs": [
    {
     "data": {
      "text/plain": [
       "0    2\n",
       "1    4\n",
       "2    6\n",
       "3    8\n",
       "dtype: int64"
      ]
     },
     "execution_count": 62,
     "metadata": {},
     "output_type": "execute_result"
    }
   ],
   "source": [
    "s1=pd.Series(np.arange(2,9,2))\n",
    "s1"
   ]
  },
  {
   "cell_type": "markdown",
   "id": "8ac783a9",
   "metadata": {},
   "source": [
    "## 20"
   ]
  },
  {
   "cell_type": "code",
   "execution_count": 63,
   "id": "ba02dd06",
   "metadata": {},
   "outputs": [
    {
     "name": "stdout",
     "output_type": "stream",
     "text": [
      "0          i\n",
      "1         am\n",
      "2          a\n",
      "3    student\n",
      "dtype: object\n"
     ]
    }
   ],
   "source": [
    "s2=pd.Series([\"i\",\"am\", \"a\",\"student\"])\n",
    "print(s2)"
   ]
  },
  {
   "cell_type": "code",
   "execution_count": 64,
   "id": "59cc273e",
   "metadata": {},
   "outputs": [
    {
     "name": "stdout",
     "output_type": "stream",
     "text": [
      "2     200\n",
      "4     200\n",
      "6     200\n",
      "8     200\n",
      "10    200\n",
      "12    200\n",
      "dtype: int64\n"
     ]
    }
   ],
   "source": [
    "s1=pd.Series(200,index=range(2,13,2))\n",
    "print(s1)"
   ]
  },
  {
   "cell_type": "code",
   "execution_count": 65,
   "id": "240cdce8",
   "metadata": {},
   "outputs": [
    {
     "name": "stdout",
     "output_type": "stream",
     "text": [
      "a     2\n",
      "b     4\n",
      "c     6\n",
      "d     8\n",
      "e    10\n",
      "dtype: int64\n"
     ]
    }
   ],
   "source": [
    "s1=pd.Series(range(2,11,2), index=[x for x in\"abcde\"]) \n",
    "print(s1)"
   ]
  },
  {
   "cell_type": "code",
   "execution_count": 66,
   "id": "c39ddc2c",
   "metadata": {},
   "outputs": [
    {
     "name": "stdout",
     "output_type": "stream",
     "text": [
      "10    20\n",
      "11    22\n",
      "12    24\n",
      "13    26\n",
      "14    28\n",
      "dtype: int64\n",
      "10    100\n",
      "11    121\n",
      "12    144\n",
      "13    169\n",
      "14    196\n",
      "dtype: int64\n"
     ]
    }
   ],
   "source": [
    "x=np.arange(10,15) \n",
    "s3=pd.Series(index=x, data=x*2) \n",
    "s4=pd.Series(x**2,x) \n",
    "print(s3)\n",
    "print(s4)"
   ]
  },
  {
   "cell_type": "code",
   "execution_count": 70,
   "id": "b8991913",
   "metadata": {},
   "outputs": [
    {
     "name": "stdout",
     "output_type": "stream",
     "text": [
      "A    17800.0\n",
      "B    17400.0\n",
      "C    15600.0\n",
      "D    13000.0\n",
      "E        0.0\n",
      "dtype: float64\n"
     ]
    }
   ],
   "source": [
    "s1 = pd.Series([8900,8700,7800,6500,np.nan], index=[\"A\",\"B\",\"C\",\"D\",\"E\"])\n",
    "s1 = s1.fillna(0)\n",
    "result = s1 * 2\n",
    "print(result)\n"
   ]
  },
  {
   "cell_type": "code",
   "execution_count": 71,
   "id": "0d225316",
   "metadata": {},
   "outputs": [
    {
     "name": "stdout",
     "output_type": "stream",
     "text": [
      "a     5.25\n",
      "b    15.50\n",
      "a    25.75\n",
      "a    36.00\n",
      "b    46.25\n",
      "dtype: float64\n",
      "a     5.25\n",
      "a    25.75\n",
      "a    36.00\n",
      "dtype: float64\n",
      "b    15.50\n",
      "b    46.25\n",
      "dtype: float64\n"
     ]
    }
   ],
   "source": [
    "val1=np.arange(5.25,50,10.25)\n",
    "ser1=pd.Series(val1,index=['a','b','a','a','b'])\n",
    "print(ser1)\n",
    "print(ser1['a'])\n",
    "print(ser1['b'])"
   ]
  },
  {
   "cell_type": "code",
   "execution_count": 79,
   "id": "fda1d14b",
   "metadata": {},
   "outputs": [
    {
     "name": "stdout",
     "output_type": "stream",
     "text": [
      "A    39\n",
      "B    31\n",
      "C    32\n",
      "D    34\n",
      "E    35\n",
      "dtype: int64\n",
      "sa = 3900\n",
      "sb = 3100\n",
      "7000\n"
     ]
    }
   ],
   "source": [
    "s1 = pd.Series([39, 31, 32, 34, 35], index=['A', 'B', 'C', 'D', 'E'])\n",
    "print(s1)\n",
    "sa = s1['A'] * 100\n",
    "print(\"sa =\", sa)\n",
    "sb = s1[\"B\"] * 100\n",
    "print(\"sb =\", sb)\n",
    "print(sa + sb)\n"
   ]
  },
  {
   "cell_type": "code",
   "execution_count": 86,
   "id": "3606bf36",
   "metadata": {},
   "outputs": [
    {
     "name": "stdout",
     "output_type": "stream",
     "text": [
      "[1.75, 17.45, -23.74, -23.74, 33.76]\n"
     ]
    }
   ],
   "source": [
    "S4 = [2.50, 17.45, 20.25, 87.25, 33.76]\n",
    "\n",
    "S4[0] = 1.75\n",
    "S4[2:4] = [-23.74, -23.74]\n",
    "print(S4)"
   ]
  },
  {
   "cell_type": "code",
   "execution_count": 83,
   "id": "8bc63272",
   "metadata": {},
   "outputs": [
    {
     "name": "stdout",
     "output_type": "stream",
     "text": [
      "a      2.00\n",
      "b    345.60\n",
      "c    -14.65\n",
      "d    -14.65\n",
      "e      6.00\n",
      "dtype: float64\n"
     ]
    },
    {
     "name": "stderr",
     "output_type": "stream",
     "text": [
      "C:\\Users\\murali.g.ARTECHSOLUTION\\AppData\\Local\\Temp\\ipykernel_18932\\1829626448.py:2: FutureWarning: Setting an item of incompatible dtype is deprecated and will raise an error in a future version of pandas. Value '345.6' has dtype incompatible with int64, please explicitly cast to a compatible dtype first.\n",
      "  s1[1:5:2]=345.6\n"
     ]
    }
   ],
   "source": [
    "s1=pd.Series([2,3,4,5,6],index=['a','b','c','d','e'])\n",
    "s1[1:5:2]=345.6\n",
    "s1[2:4]= -14.65\n",
    "print(s1)"
   ]
  },
  {
   "cell_type": "code",
   "execution_count": 85,
   "id": "41ec7d9c",
   "metadata": {},
   "outputs": [
    {
     "name": "stdout",
     "output_type": "stream",
     "text": [
      "A    8800\n",
      "B    8000\n",
      "C    7700\n",
      "D    7700\n",
      "dtype: int64\n"
     ]
    }
   ],
   "source": [
    "s12 = pd.Series([6700, 8000, 5400, 3400], index=['A', 'B', 'C', 'D'])\n",
    "s12[\"A\"] = 8800\n",
    "s12[\"C\"] = 7700\n",
    "s12[\"D\"] = 7700\n",
    "print(s12)"
   ]
  },
  {
   "cell_type": "markdown",
   "id": "51c202bd",
   "metadata": {},
   "source": [
    "s1=s1.head(100)----first 100\n",
    "s1=s1.tail(5)----last 5"
   ]
  },
  {
   "cell_type": "code",
   "execution_count": 87,
   "id": "77ff2af4",
   "metadata": {},
   "outputs": [
    {
     "name": "stdout",
     "output_type": "stream",
     "text": [
      "a     4.5\n",
      "b     6.0\n",
      "c     7.5\n",
      "d     9.0\n",
      "e    10.5\n",
      "dtype: float64\n",
      "a     3.0\n",
      "b     6.0\n",
      "c     9.0\n",
      "d    12.0\n",
      "e    15.0\n",
      "dtype: float64\n",
      "a    False\n",
      "b    False\n",
      "c     True\n",
      "d     True\n",
      "e     True\n",
      "dtype: bool\n",
      "c    4.5\n",
      "d    6.0\n",
      "e    7.5\n",
      "dtype: float64\n"
     ]
    }
   ],
   "source": [
    "s3=pd.Series([1.5, 3.0, 4.5, 6.0, 7.5],index = ['a', 'b', 'c', 'd', 'e'])\n",
    "print(s3+3)\n",
    "print(s3*2)\n",
    "print(s3>3.0)\n",
    "print(s3[s3>3.0])"
   ]
  },
  {
   "cell_type": "code",
   "execution_count": 88,
   "id": "06f6a1fc",
   "metadata": {},
   "outputs": [
    {
     "data": {
      "text/plain": [
       "0    6700\n",
       "1    8000\n",
       "2    5400\n",
       "3    3400\n",
       "Name: Contribution, dtype: int64"
      ]
     },
     "execution_count": 88,
     "metadata": {},
     "output_type": "execute_result"
    }
   ],
   "source": [
    "s12=pd.Series([6700,8000, 5400, 3400])\n",
    "s12.name=\"Contribution\"\n",
    "s12\n"
   ]
  },
  {
   "cell_type": "code",
   "execution_count": null,
   "id": "6abe5914",
   "metadata": {},
   "outputs": [
    {
     "name": "stdout",
     "output_type": "stream",
     "text": [
      "0    15.0\n",
      "1    30.0\n",
      "2    45.0\n",
      "3    60.0\n",
      "4    75.0\n",
      "5     NaN\n",
      "6     NaN\n",
      "dtype: float64\n",
      "0   NaN\n",
      "1   NaN\n",
      "2   NaN\n",
      "3   NaN\n",
      "4   NaN\n",
      "a   NaN\n",
      "b   NaN\n",
      "c   NaN\n",
      "d   NaN\n",
      "e   NaN\n",
      "dtype: float64\n",
      "0     5.0\n",
      "1    10.0\n",
      "2    15.0\n",
      "3    20.0\n",
      "4    25.0\n",
      "5     NaN\n",
      "6     NaN\n",
      "dtype: float64\n"
     ]
    }
   ],
   "source": [
    "S1 = pd.Series([10, 20, 30, 40, 50])\n",
    "S2 = pd.Series([5, 10, 15, 20, 25, 30, 35])\n",
    "S3 = pd.Series([3, 6, 9, 10, 11], index=['a', 'b', 'c', 'd', 'e'])\n",
    "print(S1+S2)\n",
    "print(S1*S3)\n",
    "print(S1-S2)"
   ]
  },
  {
   "cell_type": "code",
   "execution_count": 94,
   "id": "f8705ba9",
   "metadata": {},
   "outputs": [
    {
     "name": "stdout",
     "output_type": "stream",
     "text": [
      "[8000, 6700, 5400, 3400]\n",
      "A    8000\n",
      "B    5400\n",
      "C    3400\n",
      "D    6700\n",
      "dtype: int64\n"
     ]
    }
   ],
   "source": [
    "S1 = pd.Series([6700,8000,5400,3400],index=[\"D\",\"A\",\"B\",\"C\"])\n",
    "print(sorted(S1,reverse=True))\n",
    "print(S1.sort_index())"
   ]
  },
  {
   "cell_type": "code",
   "execution_count": null,
   "id": "dfd40f85",
   "metadata": {},
   "outputs": [
    {
     "name": "stdout",
     "output_type": "stream",
     "text": [
      "0    6700\n",
      "1    8000\n",
      "2    5400\n",
      "3    3400\n",
      "dtype: int64\n"
     ]
    }
   ],
   "source": [
    "s13=pd.Series([6700,8000,5400,3400], index=['A', 'B', 'C', 'D'])\n",
    "s13.index=range(0,4) \n",
    "print(s13)\n",
    "##in range we are giving 0,5 so that their and while we runnong the problem we will get new 5th element that why it throwing error"
   ]
  },
  {
   "cell_type": "code",
   "execution_count": 98,
   "id": "5c596dd9",
   "metadata": {},
   "outputs": [
    {
     "name": "stdout",
     "output_type": "stream",
     "text": [
      "Series1:\n",
      "0    7\n",
      "1    8\n",
      "2    9\n",
      "3    7\n",
      "4    8\n",
      "5    9\n",
      "dtype: int64\n",
      "Series2:\n",
      "0    14\n",
      "1    16\n",
      "2    18\n",
      "dtype: int64\n"
     ]
    }
   ],
   "source": [
    "first=[7,8,9]\n",
    "second=pd.Series(first)\n",
    "s1=pd.Series(data=first*2)\n",
    "s2=pd.Series(data=second*2)\n",
    "print(\"Series1:\")\n",
    "print(s1)\n",
    "print(\"Series2:\")\n",
    "print(s2)"
   ]
  },
  {
   "cell_type": "code",
   "execution_count": 99,
   "id": "b21fa8f9",
   "metadata": {},
   "outputs": [
    {
     "name": "stdout",
     "output_type": "stream",
     "text": [
      "0    Mon\n",
      "1    Tue\n",
      "2    Wed\n",
      "3    Thu\n",
      "dtype: object\n",
      "3    Thu\n",
      "4    Fri\n",
      "5    Sat\n",
      "6    Sun\n",
      "dtype: object\n"
     ]
    }
   ],
   "source": [
    "data=np.array(['Mon','Tue','Wed','Thu','Fri','Sat','Sun'])\n",
    "s=pd.Series(data)\n",
    "print(s[:4])\n",
    "print(s[-4:])"
   ]
  },
  {
   "cell_type": "code",
   "execution_count": 100,
   "id": "5810ba2c",
   "metadata": {},
   "outputs": [
    {
     "name": "stdout",
     "output_type": "stream",
     "text": [
      "103    Wed\n",
      "105    Fri\n",
      "107    Sun\n",
      "dtype: object\n"
     ]
    }
   ],
   "source": [
    "data=np.array(['Mon','Tue','Wed','Thu','Fri','Sat','Sun'])\n",
    "s=pd.Series(data, index=[101,102,103,104,105,\n",
    "106,107])\n",
    "print(s[[103,105,107]])"
   ]
  },
  {
   "cell_type": "code",
   "execution_count": 101,
   "id": "8b9ca0dd",
   "metadata": {},
   "outputs": [
    {
     "name": "stdout",
     "output_type": "stream",
     "text": [
      "b    11.0\n",
      "c    12.0\n",
      "d     NaN\n",
      "a    10.0\n",
      "dtype: float64\n"
     ]
    }
   ],
   "source": [
    "D={'a':10,'b':11,'c':12}\n",
    "S=pd.Series(D,index=['b','c','d','a'])\n",
    "print(S)"
   ]
  },
  {
   "cell_type": "code",
   "execution_count": null,
   "id": "9abf733e",
   "metadata": {},
   "outputs": [],
   "source": []
  }
 ],
 "metadata": {
  "kernelspec": {
   "display_name": "Python 3",
   "language": "python",
   "name": "python3"
  },
  "language_info": {
   "codemirror_mode": {
    "name": "ipython",
    "version": 3
   },
   "file_extension": ".py",
   "mimetype": "text/x-python",
   "name": "python",
   "nbconvert_exporter": "python",
   "pygments_lexer": "ipython3",
   "version": "3.13.2"
  }
 },
 "nbformat": 4,
 "nbformat_minor": 5
}

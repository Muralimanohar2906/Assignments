{
 "cells": [
  {
   "cell_type": "code",
   "execution_count": 2,
   "id": "defcc1db",
   "metadata": {},
   "outputs": [
    {
     "name": "stdout",
     "output_type": "stream",
     "text": [
      "Total sales for the week: 1035\n",
      "Average daily sales for the week: 147.85714285714286\n",
      "weekdays sales: [120, 135, 150, 160, 145]\n",
      "weekend sales: [170, 155]\n"
     ]
    }
   ],
   "source": [
    "#A company recorded daily sales for 7 days as [120, 135, 150, 160, 145, 170, 155].\n",
    "#Write a Python program to calculate the average daily sales for the week.\n",
    "sales=[120, 135, 150, 160, 145, 170, 155]\n",
    "sum_sales=sum(sales)\n",
    "print(\"Total sales for the week:\",sum_sales)\n",
    "aver_sales=sum_sales/len(sales)\n",
    "print(\"Average daily sales for the week:\",aver_sales)\n",
    "print(\"weekdays sales:\",sales[0:5])\n",
    "print(\"weekend sales:\",sales[5:7])"
   ]
  },
  {
   "cell_type": "code",
   "execution_count": 5,
   "id": "c06c318e",
   "metadata": {},
   "outputs": [
    {
     "name": "stdout",
     "output_type": "stream",
     "text": [
      "Even numbers are: [0, 2, 4, 6]\n"
     ]
    }
   ],
   "source": [
    "#Write a Python program that accepts a list of numbers from the user and prints a new list containing only the even numbers using a list comprehension\n",
    "userlist=int(input(\"Enter values:\"))\n",
    "even_numbers=[numbers for numbers in range(userlist) if numbers%2==0]\n",
    "print(\"Even numbers are:\",even_numbers)\n"
   ]
  },
  {
   "cell_type": "code",
   "execution_count": 16,
   "id": "9d28638d",
   "metadata": {},
   "outputs": [
    {
     "name": "stdout",
     "output_type": "stream",
     "text": [
      "Alice\n",
      "Clara\n",
      "David\n",
      "{'Alice': 'Pass', 'Bob': 'Fail', 'Clara': 'Pass', 'David': 'Pass'}\n"
     ]
    }
   ],
   "source": [
    "#Given a dictionary of students and their marks\n",
    "marks={\"Alice\": 82, \"Bob\": 67, \"Clara\": 91, \"David\": 76}\n",
    "def marks_above_75(marks):\n",
    "    for names in marks:\n",
    "        if marks[names]>75:\n",
    "            print(names)\n",
    "marks_above_75(marks)\n",
    "#Create a new dictionary with student names as keys and \"Pass\"/\"Fail\" as values.\n",
    "def Pass_fail(marks):\n",
    "    new_dict={}\n",
    "    for names in marks:\n",
    "        if marks[names]>=75:\n",
    "            new_dict[names]=\"Pass\"\n",
    "        else:\n",
    "            new_dict[names]=\"Fail\"\n",
    "    return new_dict\n",
    "print(Pass_fail(marks))"
   ]
  },
  {
   "cell_type": "code",
   "execution_count": 25,
   "id": "41069b9d",
   "metadata": {},
   "outputs": [
    {
     "name": "stdout",
     "output_type": "stream",
     "text": [
      "{'p': 2, 'y': 1, 't': 1, 'h': 1, 'o': 2, 'n': 2, ' ': 1, 'r': 2, 'g': 2, 'a': 1, 'm': 2, 'i': 1}\n",
      "defaultdict(<class 'int'>, {'p': 2, 'y': 1, 't': 1, 'h': 1, 'o': 2, 'n': 2, ' ': 1, 'r': 2, 'g': 2, 'a': 1, 'm': 2, 'i': 1})\n"
     ]
    }
   ],
   "source": [
    "#Create a program that counts how many times each character occurs in the string \"python programming\". Use both\n",
    "str1=\"python programming\"\n",
    "def char_count(str1):\n",
    "    char_dict={}\n",
    "    for char in str1:\n",
    "        char_dict[char]=char_dict.get(char,0)+1\n",
    "    return char_dict\n",
    "print(char_count(str1))\n",
    "#a defaultdict(int)\n",
    "from collections import defaultdict\n",
    "def default_dict_int(str1):\n",
    "    char_dict=defaultdict(int)\n",
    "    for char in str1:\n",
    "        char_dict[char]+=1\n",
    "    return char_dict    \n",
    "print(default_dict_int(str1))"
   ]
  },
  {
   "cell_type": "code",
   "execution_count": 31,
   "id": "26bb2905",
   "metadata": {},
   "outputs": [
    {
     "name": "stdout",
     "output_type": "stream",
     "text": [
      "unpacked tuple: (10, 20, 30, 40, 50)\n",
      "swapping first and last elements: (50, 20, 30, 40, 10)\n"
     ]
    }
   ],
   "source": [
    "#Write a Python program that takes a tuple of numbers (10, 20, 30, 40, 50)\n",
    "tuple1=(10, 20, 30, 40, 50)\n",
    "a,b,c,d,e=tuple1\n",
    "print(\"unpacked tuple:\",tuple1)\n",
    "swap=(e,b,c,d,a)\n",
    "print(\"swapping first and last elements:\",swap)"
   ]
  },
  {
   "cell_type": "code",
   "execution_count": 34,
   "id": "c47e0bb5",
   "metadata": {},
   "outputs": [
    {
     "name": "stdout",
     "output_type": "stream",
     "text": [
      "Students Who Played Both Games: {'Mike', 'Sara'}\n",
      "Students Who Played Only One Game: {'Tom', 'John', 'Bob', 'Emma'}\n"
     ]
    }
   ],
   "source": [
    "#Two sets represent students who play Cricket and Football\n",
    "ct = {\"John\", \"Mike\", \"Sara\", \"Bob\"}\n",
    "fb = {\"Mike\", \"Tom\", \"Sara\", \"Emma\"}\n",
    "#Find students who play both sports\n",
    "def both_games(ct,fb):\n",
    "    return ct.intersection(fb)\n",
    "print(\"Students Who Played Both Games:\",both_games(ct,fb))\n",
    "#Find students who play only one game\n",
    "def only_one_game(ct,fb):\n",
    "    return ct.symmetric_difference(fb)\n",
    "print(\"Students Who Played Only One Game:\",only_one_game(ct,fb))"
   ]
  },
  {
   "cell_type": "code",
   "execution_count": 2,
   "id": "66f1485b",
   "metadata": {},
   "outputs": [
    {
     "name": "stdout",
     "output_type": "stream",
     "text": [
      "Factorial of: 5 is: 120\n",
      "Factorial of: 5 is: 120\n"
     ]
    }
   ],
   "source": [
    "#Write a function factorial(n) that uses a loop to calculate factorial.\n",
    "def function_factorial(n):\n",
    "    fact=1\n",
    "    for i in range(1,n+1):\n",
    "        fact=fact*i\n",
    "    return fact\n",
    "n=int(input(\"Enter a number:\"))\n",
    "print(\"Factorial of:\",n,\"is:\",function_factorial(n))\n",
    "#Then write another version using recursion. Compare the results\n",
    "def recursion_fractorial(n):\n",
    "    \n",
    "    if n==0 or n==1:\n",
    "        return 1\n",
    "    else:\n",
    "        return n*recursion_fractorial(n-1)\n",
    "n=int(input(\"Enter a number:\"))\n",
    "print(\"Factorial of:\",n,\"is:\",recursion_fractorial(n))        "
   ]
  },
  {
   "cell_type": "code",
   "execution_count": 10,
   "id": "8ed8beb8",
   "metadata": {},
   "outputs": [
    {
     "name": "stdout",
     "output_type": "stream",
     "text": [
      "all positional arguments as list: ('murali', 'shyam')\n",
      "all keyword arguments as a dictionary: {'city': 'hyd', 'age': 25}\n"
     ]
    }
   ],
   "source": [
    "#Write a function student_info(*args, **kwargs) that Prints all positional arguments as a list\n",
    "def student_info(*args, **kwargs):\n",
    "    print(\"all positional arguments as list:\",args)\n",
    "    print(\"all keyword arguments as a dictionary:\",kwargs)\n",
    "student_info(\"murali\",\"shyam\",city=\"hyd\",age=25)\n",
    "\n",
    "    "
   ]
  },
  {
   "cell_type": "code",
   "execution_count": 11,
   "id": "80972590",
   "metadata": {},
   "outputs": [
    {
     "name": "stdout",
     "output_type": "stream",
     "text": [
      "1\n",
      "2\n",
      "3\n",
      "4\n",
      "5\n"
     ]
    }
   ],
   "source": [
    "#Write a closure function make_counter() that returns a function increment() which increases a count by 1 every time it is called. Demonstrate it by calling 5 times\n",
    "def make_counter():\n",
    "    count=0\n",
    "    def increment():\n",
    "        nonlocal count\n",
    "        count+=1\n",
    "        return count\n",
    "    return increment\n",
    "counter=make_counter()\n",
    "for i in range(5):\n",
    "    print(counter())"
   ]
  },
  {
   "cell_type": "code",
   "execution_count": 14,
   "id": "eba98509",
   "metadata": {},
   "outputs": [
    {
     "name": "stdout",
     "output_type": "stream",
     "text": [
      "1\n"
     ]
    }
   ],
   "source": [
    "#Use the global keyword to maintain a variable visits that counts how many times a function track_visits() has been called. Show its behavior.\n",
    "visits=0\n",
    "def track_vicits():\n",
    "    global visits\n",
    "    visits+=1\n",
    "    return visits\n",
    "print(track_vicits())"
   ]
  },
  {
   "cell_type": "code",
   "execution_count": 20,
   "id": "8cbdd682",
   "metadata": {},
   "outputs": [
    {
     "name": "stdout",
     "output_type": "stream",
     "text": [
      "25.125\n"
     ]
    }
   ],
   "source": [
    "#Define a function with type hints\n",
    "def average(nums: list[float]) -> float:\n",
    "    return sum(nums)/len(nums)\n",
    "print(average([10, 20.3, 30.2,40]))"
   ]
  },
  {
   "cell_type": "code",
   "execution_count": 29,
   "id": "25035489",
   "metadata": {},
   "outputs": [
    {
     "name": "stdout",
     "output_type": "stream",
     "text": [
      "List of squares from 1-10: [1, 4, 9, 16, 25, 36, 49, 64, 81, 100]\n",
      "Dictionary mapping numbers 1-10 to their cubes: {1: 1, 2: 8, 3: 27, 4: 64, 5: 125, 6: 216, 7: 343, 8: 512, 9: 729, 10: 1000}\n",
      "Set of all remainders when numbers 1-20 are divided by 5: {0, 1, 2, 3, 4}\n"
     ]
    }
   ],
   "source": [
    "#Creates a list of squares from 1–10 using a list comprehension\n",
    "lst_squares=[x**2 for x in range(1,11)]\n",
    "print(\"List of squares from 1-10:\",lst_squares)\n",
    "#Creates a dictionary mapping numbers 1–10 to their cubes using a dictionary comprehension\n",
    "dict_cubes={x:x**3 for x in range(1,11)}\n",
    "print(\"Dictionary mapping numbers 1-10 to their cubes:\",dict_cubes)\n",
    "#Creates a set of all remainders when numbers 1–20 are divided by 5 using a set comprehension\n",
    "set_remainders={x%5 for x in range(1,21)}\n",
    "print(\"Set of all remainders when numbers 1-20 are divided by 5:\",set_remainders)"
   ]
  },
  {
   "cell_type": "code",
   "execution_count": 6,
   "id": "8eae82f5",
   "metadata": {},
   "outputs": [
    {
     "name": "stdout",
     "output_type": "stream",
     "text": [
      "{}\n"
     ]
    }
   ],
   "source": [
    "\n",
    "#Try deleting keys while iterating. Catch the error and then show the correct way using list(d.keys()\n",
    "d = {\"a\": 1, \"b\": 2, \"c\": 3}\n",
    "for key in list(d.keys()):\n",
    "    del d[key]\n",
    "print(d)\n"
   ]
  },
  {
   "cell_type": "code",
   "execution_count": 36,
   "id": "cc67c32d",
   "metadata": {},
   "outputs": [
    {
     "name": "stdout",
     "output_type": "stream",
     "text": [
      "[1, 2, 3, 4, 5, 6]\n"
     ]
    }
   ],
   "source": [
    "#Write a Python program to flatten this nested list using a nested loop comprehension:\n",
    "matrix = [[1, 2], [3, 4, 5], [6]]\n",
    "flattened=[x for row in matrix for x in row]\n",
    "print(flattened)"
   ]
  },
  {
   "cell_type": "code",
   "execution_count": 4,
   "id": "37cb69b4",
   "metadata": {},
   "outputs": [
    {
     "name": "stdout",
     "output_type": "stream",
     "text": [
      "{'murali': 2, 'manohar': 1}\n",
      "Most frequent word is: murali and its frequency is: 2\n"
     ]
    }
   ],
   "source": [
    "#Create a program to find the most frequent word in a sentence entered by the user. Print the word and its frequency.\n",
    "most_frequent={}\n",
    "user=input(\"Enter a sentence:\")\n",
    "words=user.split()\n",
    "for word in words:\n",
    "    most_frequent[word]=most_frequent.get(word,0)+1\n",
    "print(most_frequent)\n",
    "max_word=max(most_frequent,key=most_frequent.get)\n",
    "print(\"Most frequent word is:\",max_word,\"and its frequency is:\",most_frequent[max_word])"
   ]
  },
  {
   "cell_type": "code",
   "execution_count": null,
   "id": "4ffda539",
   "metadata": {},
   "outputs": [],
   "source": []
  }
 ],
 "metadata": {
  "kernelspec": {
   "display_name": "Python 3",
   "language": "python",
   "name": "python3"
  },
  "language_info": {
   "codemirror_mode": {
    "name": "ipython",
    "version": 3
   },
   "file_extension": ".py",
   "mimetype": "text/x-python",
   "name": "python",
   "nbconvert_exporter": "python",
   "pygments_lexer": "ipython3",
   "version": "3.13.2"
  }
 },
 "nbformat": 4,
 "nbformat_minor": 5
}
